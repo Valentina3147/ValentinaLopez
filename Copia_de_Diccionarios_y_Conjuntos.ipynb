{
  "cells": [
    {
      "cell_type": "markdown",
      "metadata": {
        "id": "view-in-github",
        "colab_type": "text"
      },
      "source": [
        "<a href=\"https://colab.research.google.com/github/Valentina3147/ValentinaLopez/blob/main/Copia_de_Diccionarios_y_Conjuntos.ipynb\" target=\"_parent\"><img src=\"https://colab.research.google.com/assets/colab-badge.svg\" alt=\"Open In Colab\"/></a>"
      ]
    },
    {
      "cell_type": "markdown",
      "metadata": {
        "id": "7tyNHF5mLsgt"
      },
      "source": [
        "# Diccionarios\n",
        "\n",
        "Así como en una lista los valores están indexados por su posición, en un diccionario los valores van a estar indexados por sus llaves. La sintaxis de un diccionario es:\n",
        "\n",
        "```nombre_dict = { key1: value1, key2: value2}```:"
      ]
    },
    {
      "cell_type": "code",
      "execution_count": null,
      "metadata": {
        "colab": {
          "base_uri": "https://localhost:8080/"
        },
        "id": "cIR1xjV4Lsgy",
        "outputId": "bfcaac1e-180b-4e22-d0c4-e12cc54b3c38"
      },
      "outputs": [
        {
          "output_type": "stream",
          "name": "stdout",
          "text": [
            "{'edad': 40, 'genero': 'Masculino', 'nombre': 'JuanSalvador', 'apellido': 'Gaviota'}\n"
          ]
        }
      ],
      "source": [
        "datos = {\"edad\": 40, \"genero\": 'Masculino', \"nombre\": 'JuanSalvador', \"apellido\": 'Gaviota'}\n",
        "print(datos)"
      ]
    },
    {
      "cell_type": "code",
      "source": [
        "dicc = dict()\n",
        "dicc"
      ],
      "metadata": {
        "colab": {
          "base_uri": "https://localhost:8080/"
        },
        "id": "hicL2N2N1ATI",
        "outputId": "dd68a2d7-a253-4f8b-8f5d-70df4b0d8419"
      },
      "execution_count": null,
      "outputs": [
        {
          "output_type": "execute_result",
          "data": {
            "text/plain": [
              "{}"
            ]
          },
          "metadata": {},
          "execution_count": 2
        }
      ]
    },
    {
      "cell_type": "code",
      "execution_count": null,
      "metadata": {
        "colab": {
          "base_uri": "https://localhost:8080/"
        },
        "id": "hz_5dCq9Lsg1",
        "outputId": "e0cde148-53c0-49f3-b911-746e39753c76"
      },
      "outputs": [
        {
          "output_type": "stream",
          "name": "stdout",
          "text": [
            "{22: 'SSH', 23: 'Telnet', 80: 'HTTP', 3306: 'MySQL'}\n"
          ]
        }
      ],
      "source": [
        "puertos = { 22: 'SSH', 23: 'Telnet', 80: 'HTTP', 3306: 'MySQL'}\n",
        "print(puertos)"
      ]
    },
    {
      "cell_type": "markdown",
      "metadata": {
        "id": "2bJNCAYULsg2"
      },
      "source": [
        "Cada pareja llave valor es considerada un ítem. La llave y el valor están separados por ```:```, cada ítem está separado por comas ```,``` y los items están rodeados por llaves ```{``` ```}```. Un diccionario vacío puede crearse así: ```{}```. Las características clave de un diccionario son:\n",
        "\n",
        "- La llave de un ítem no puede ser cambiada\n",
        "- Un string, int, o float puede ser usado como llave.\n",
        "- Una tupla que no contenga listas puede ser usada como llave.\n",
        "- Las llaves son únicas.\n",
        "- Los valores pueden ser cualquier tipo de dato.\n",
        "- Los valores pueden estar repetidos.\n",
        "- Los valores pueden ser cambiados.\n",
        "- Un diccionario es una colección desordenada (el orden en el que se ingresen los datos es independiente de la forma en la que se almacenan en la estructura de datos).\n"
      ]
    },
    {
      "cell_type": "markdown",
      "metadata": {
        "id": "reXmlvTiLsg3"
      },
      "source": [
        "## Unir diccionarios\n",
        "\n",
        "Es posible añadir las llaves de un diccionario en otro diccionario con ```update```:\n",
        "\n"
      ]
    },
    {
      "cell_type": "code",
      "execution_count": null,
      "metadata": {
        "colab": {
          "base_uri": "https://localhost:8080/"
        },
        "id": "Q2v8voRTLsg3",
        "outputId": "2242a734-729d-45ed-ae37-d5d61151b461"
      },
      "outputs": [
        {
          "output_type": "stream",
          "name": "stdout",
          "text": [
            "{22: 'SSH', 23: 'telnet', 80: 'Http', 53: 'DNS', 443: 'https'}\n"
          ]
        }
      ],
      "source": [
        "dict_ports1 = {22: \"SSH\", 23: \"telnet\", 80: \"Http\"}\n",
        "dict_ports2 = {53 :\"DNS\", 443 : \"https\"}\n",
        "dict_ports1.update(dict_ports2)\n",
        "print(dict_ports1)"
      ]
    },
    {
      "cell_type": "markdown",
      "metadata": {
        "id": "Ha-3keOaLsg4"
      },
      "source": [
        "## Comparar\n",
        "\n",
        "Se usa los operadores convencionales `==`y `!=` para comparar diccionarios. Se mira si los diccionarios tienen los mismos ítems. Para el programa"
      ]
    },
    {
      "cell_type": "code",
      "execution_count": null,
      "metadata": {
        "colab": {
          "base_uri": "https://localhost:8080/"
        },
        "id": "lTvABAu_Lsg4",
        "outputId": "7d478b64-8cd3-4df9-bf2a-7c22c0ceeac2"
      },
      "outputs": [
        {
          "output_type": "stream",
          "name": "stdout",
          "text": [
            "True\n",
            "True\n",
            "False\n"
          ]
        }
      ],
      "source": [
        "a = {123:'Rojas', 87:'Rosas'} == {87:'Rosas', 123:\"Rojas\"}\n",
        "print(a)\n",
        "print({'Rosas':123} != {'rosas':123} )\n",
        "b =  {123:'Rosas', 87:'rojas'} == {'Rosas':123, 87:'rojas'}\n",
        "print(b)"
      ]
    },
    {
      "cell_type": "markdown",
      "metadata": {
        "id": "oQKYdeDULsg5"
      },
      "source": [
        "## Comparar (is)\n",
        "\n",
        "Se puede usar el operador `is` para determinar si dos diccionarios son elmismo (referencian al mismo objeto)."
      ]
    },
    {
      "cell_type": "code",
      "execution_count": null,
      "metadata": {
        "colab": {
          "base_uri": "https://localhost:8080/"
        },
        "id": "jnYBe1SbLsg6",
        "outputId": "bd668807-3e90-471f-9389-018376263686"
      },
      "outputs": [
        {
          "output_type": "stream",
          "name": "stdout",
          "text": [
            "True\n",
            "False\n",
            "True\n",
            "True\n"
          ]
        }
      ],
      "source": [
        "a = {123:'Rojas', 87:'rosas'}\n",
        "b = {87:'rosas', 123:'Rojas'}\n",
        "c = a\n",
        "print( a == b )\n",
        "print( a is b )\n",
        "print( a == c )\n",
        "print( a is c )"
      ]
    },
    {
      "cell_type": "markdown",
      "metadata": {
        "id": "rRxqYAwuLsg6"
      },
      "source": [
        "## Accediendo a un valor\n",
        "\n",
        "Para acceder a un valor en un diccionario es necesario tener la llave."
      ]
    },
    {
      "cell_type": "code",
      "execution_count": null,
      "metadata": {
        "id": "qmX2TPrsLsg7"
      },
      "outputs": [],
      "source": [
        "puertos = { 22: 'SSH', 23: 'Telnet', 80: 'HTTP', 3306: 'MySQL'}"
      ]
    },
    {
      "cell_type": "markdown",
      "metadata": {
        "id": "9gjogHcPLsg7"
      },
      "source": [
        "Para obtener el nombre del protocolo correspondiente al puerto 22 se puede hacer lo siguiente:"
      ]
    },
    {
      "cell_type": "code",
      "execution_count": null,
      "metadata": {
        "colab": {
          "base_uri": "https://localhost:8080/"
        },
        "id": "MVGhFI3-Lsg7",
        "outputId": "81000034-f047-41d8-bdbe-14b3f9d4a8d7"
      },
      "outputs": [
        {
          "output_type": "stream",
          "name": "stdout",
          "text": [
            "SSH\n"
          ]
        }
      ],
      "source": [
        "protocol = puertos[22]\n",
        "print(protocol)"
      ]
    },
    {
      "cell_type": "code",
      "execution_count": null,
      "metadata": {
        "colab": {
          "base_uri": "https://localhost:8080/",
          "height": 35
        },
        "id": "ciGrAsvoLsg8",
        "outputId": "8868fb72-f6a0-4d54-c3ca-1b025d2b2244"
      },
      "outputs": [
        {
          "output_type": "execute_result",
          "data": {
            "text/plain": [
              "'MySQL'"
            ],
            "application/vnd.google.colaboratory.intrinsic+json": {
              "type": "string"
            }
          },
          "metadata": {},
          "execution_count": 7
        }
      ],
      "source": [
        "puertos[3306]"
      ]
    },
    {
      "cell_type": "markdown",
      "metadata": {
        "id": "dAHyuHpTLsg8"
      },
      "source": [
        "Si la llave no está se produce un ```KeyError```:"
      ]
    },
    {
      "cell_type": "code",
      "execution_count": null,
      "metadata": {
        "colab": {
          "base_uri": "https://localhost:8080/",
          "height": 166
        },
        "id": "F_x27UlaLsg8",
        "outputId": "5f5a504d-d2e9-4f3e-ce6f-7b6aae82c9a6"
      },
      "outputs": [
        {
          "output_type": "error",
          "ename": "KeyError",
          "evalue": "ignored",
          "traceback": [
            "\u001b[0;31m---------------------------------------------------------------------------\u001b[0m",
            "\u001b[0;31mKeyError\u001b[0m                                  Traceback (most recent call last)",
            "\u001b[0;32m<ipython-input-8-b7ffcde03a52>\u001b[0m in \u001b[0;36m<module>\u001b[0;34m\u001b[0m\n\u001b[0;32m----> 1\u001b[0;31m \u001b[0mpuertos\u001b[0m\u001b[0;34m[\u001b[0m\u001b[0;36m443\u001b[0m\u001b[0;34m]\u001b[0m\u001b[0;34m\u001b[0m\u001b[0;34m\u001b[0m\u001b[0m\n\u001b[0m",
            "\u001b[0;31mKeyError\u001b[0m: 443"
          ]
        }
      ],
      "source": [
        "puertos[443]"
      ]
    },
    {
      "cell_type": "markdown",
      "metadata": {
        "id": "YNStjaegLsg9"
      },
      "source": [
        "## Actualización de valores en un diccionario\n",
        "\n",
        "Para actualizar valores en un diccionario basta con realizar la siguiente asignación:\n",
        "\n",
        "```dict[key] = new_val```\n"
      ]
    },
    {
      "cell_type": "code",
      "execution_count": null,
      "metadata": {
        "id": "gMw1pCOvLsg9",
        "colab": {
          "base_uri": "https://localhost:8080/"
        },
        "outputId": "dbe7b99f-8ac8-4b29-a499-f68465637770"
      },
      "outputs": [
        {
          "output_type": "stream",
          "name": "stdout",
          "text": [
            "{80: 'HTTP', 23: 'SMTP', 443: 'HTTPS'}\n",
            "{80: 'HTTP', 23: 'Telnet', 443: 'HTTPS'}\n"
          ]
        }
      ],
      "source": [
        "puertos = {80: \"HTTP\", 23 : \"SMTP\", 443 : \"HTTPS\"}\n",
        "print(puertos)\n",
        "puertos[23] = 'Telnet'\n",
        "print(puertos)"
      ]
    },
    {
      "cell_type": "markdown",
      "metadata": {
        "id": "o5MvbIMULsg9"
      },
      "source": [
        "Para añadir un valor se realiza la asignación:\n",
        "\n",
        "```dict[new_key] = new_val```"
      ]
    },
    {
      "cell_type": "code",
      "execution_count": null,
      "metadata": {
        "id": "gYgANC8ILsg-",
        "colab": {
          "base_uri": "https://localhost:8080/"
        },
        "outputId": "a2cdad0a-7faa-4d61-9c1a-a3ff15c3b528"
      },
      "outputs": [
        {
          "output_type": "stream",
          "name": "stdout",
          "text": [
            "{80: 'HTTP', 23: 'SMTP', 443: 'HTTPS'}\n",
            "{80: 'HTTP', 23: 'SMTP', 443: 'HTTPS', 110: 'POP'}\n"
          ]
        }
      ],
      "source": [
        "puertos = {80: \"HTTP\", 23 : \"SMTP\", 443 : \"HTTPS\"}\n",
        "print(puertos)\n",
        "puertos[110] = 'POP'\n",
        "print(puertos)"
      ]
    },
    {
      "cell_type": "markdown",
      "metadata": {
        "id": "G_4fE7KiLsg-"
      },
      "source": [
        "## Eliminación de ítems"
      ]
    },
    {
      "cell_type": "markdown",
      "metadata": {
        "id": "-6ZSrnAVLsg-"
      },
      "source": [
        "Con ```del``` es posible eliminar el diccionario entero o los ítems de un diccionario. Si se desea eliminar un ítem se puede utilizar la siguiente sintaxis:\n",
        "\n",
        "```del dict[key]```"
      ]
    },
    {
      "cell_type": "code",
      "execution_count": null,
      "metadata": {
        "id": "TpWdRAIzLsg-",
        "colab": {
          "base_uri": "https://localhost:8080/"
        },
        "outputId": "1c7c05cb-9aca-4389-ebd6-fa5996d644d8"
      },
      "outputs": [
        {
          "output_type": "stream",
          "name": "stdout",
          "text": [
            "{22: 'SSH', 23: 'Telnet', 80: 'HTTP', 3306: 'MySQL'}\n",
            "{22: 'SSH', 80: 'HTTP', 3306: 'MySQL'}\n"
          ]
        }
      ],
      "source": [
        "puertos = { 22: 'SSH', 23: 'Telnet', 80: 'HTTP', 3306: 'MySQL'}\n",
        "print(puertos)\n",
        "del puertos[23]\n",
        "print(puertos)"
      ]
    },
    {
      "cell_type": "markdown",
      "metadata": {
        "id": "4pAI-1nnLsg_"
      },
      "source": [
        "## Consultando un diccionario\n",
        "\n",
        "Para validar la existencia de la llave en un diccionario se puede utilizar el operador ```in```"
      ]
    },
    {
      "cell_type": "code",
      "execution_count": null,
      "metadata": {
        "id": "fWvkWKv6Lsg_",
        "colab": {
          "base_uri": "https://localhost:8080/"
        },
        "outputId": "b359073d-ff4a-4858-d75e-cdbb5b0fd35f"
      },
      "outputs": [
        {
          "output_type": "stream",
          "name": "stdout",
          "text": [
            "True\n",
            "False\n"
          ]
        }
      ],
      "source": [
        "print(80 in puertos)\n",
        "print(222 in puertos)"
      ]
    },
    {
      "cell_type": "markdown",
      "metadata": {
        "id": "duOa12ubLsg_"
      },
      "source": [
        "## Iterando un diccionario\n",
        "\n",
        "Es posible usae el ciclo for y el método items() para obtener los items deun diccionario."
      ]
    },
    {
      "cell_type": "code",
      "execution_count": null,
      "metadata": {
        "id": "FAFmlsiDLsg_",
        "colab": {
          "base_uri": "https://localhost:8080/"
        },
        "outputId": "4343dffe-ea3b-4428-927f-22905ee93878"
      },
      "outputs": [
        {
          "output_type": "stream",
          "name": "stdout",
          "text": [
            "22 SSH\n",
            "23 telnet\n",
            "80 Http\n"
          ]
        }
      ],
      "source": [
        "dict_ports = {22: \"SSH\", 23: \"telnet\", 80: \"Http\"}\n",
        "for a,b in dict_ports.items():\n",
        "    print(a,b)"
      ]
    },
    {
      "cell_type": "code",
      "source": [],
      "metadata": {
        "id": "O0mYBfJa3Ik5"
      },
      "execution_count": null,
      "outputs": []
    },
    {
      "cell_type": "markdown",
      "metadata": {
        "id": "45X-eTF1Lsg_"
      },
      "source": [
        "Es posible iterar un diccionario usando el ciclo for para obtener las claves."
      ]
    },
    {
      "cell_type": "code",
      "execution_count": null,
      "metadata": {
        "id": "gHa0YywDLshA",
        "colab": {
          "base_uri": "https://localhost:8080/"
        },
        "outputId": "68778c34-7c7e-4488-ee8a-c3d9dc70d349"
      },
      "outputs": [
        {
          "output_type": "stream",
          "name": "stdout",
          "text": [
            "22\n",
            "23\n",
            "80\n"
          ]
        }
      ],
      "source": [
        "dict_ports = {22: \"SSH\", 23: \"telnet\", 80: \"Http\"}\n",
        "for key in dict_ports:\n",
        "    print(key)"
      ]
    },
    {
      "cell_type": "markdown",
      "metadata": {
        "id": "3SHC6SHbLshA"
      },
      "source": [
        "## Longitud (len)\n",
        "\n",
        "Determina el número de ítems en un diccionario."
      ]
    },
    {
      "cell_type": "markdown",
      "metadata": {
        "id": "Zw3JyX-jLshA"
      },
      "source": [
        "Obtener la cantidad de ítems:"
      ]
    },
    {
      "cell_type": "code",
      "execution_count": null,
      "metadata": {
        "colab": {
          "base_uri": "https://localhost:8080/"
        },
        "id": "kMBsy8K9LshA",
        "outputId": "c9f9ae7a-47db-459d-c862-cd463e5e3ac2"
      },
      "outputs": [
        {
          "output_type": "execute_result",
          "data": {
            "text/plain": [
              "3"
            ]
          },
          "metadata": {},
          "execution_count": 12
        }
      ],
      "source": [
        "puertos = {80: \"HTTP\", 23 : \"SMTP\", 443 : \"HTTPS\"}\n",
        "len(puertos)"
      ]
    },
    {
      "cell_type": "markdown",
      "metadata": {
        "id": "w_lu6jrbLshB"
      },
      "source": [
        "## Obteniendo valores\n",
        "\n",
        "Para obtener el valor correspondiente a una llave también se puede utilizar ```get```.\n",
        "\n",
        "```dict.get(key, default=None)```"
      ]
    },
    {
      "cell_type": "code",
      "execution_count": null,
      "metadata": {
        "colab": {
          "base_uri": "https://localhost:8080/"
        },
        "id": "HSAvlsEFLshB",
        "outputId": "8b383c42-4d86-4c93-a567-b91a5b9f50be"
      },
      "outputs": [
        {
          "output_type": "execute_result",
          "data": {
            "text/plain": [
              "1"
            ]
          },
          "metadata": {},
          "execution_count": 13
        }
      ],
      "source": [
        "dict1 = {'a':1, 'b':2, 'c':3}\n",
        "dict1.get('a')"
      ]
    },
    {
      "cell_type": "code",
      "execution_count": null,
      "metadata": {
        "colab": {
          "base_uri": "https://localhost:8080/",
          "height": 35
        },
        "id": "muvWdJMBLshB",
        "outputId": "3be3db29-40c5-48ed-8083-c9e5a2a37236"
      },
      "outputs": [
        {
          "output_type": "execute_result",
          "data": {
            "text/plain": [
              "'llave no encontrada.'"
            ],
            "application/vnd.google.colaboratory.intrinsic+json": {
              "type": "string"
            }
          },
          "metadata": {},
          "execution_count": 14
        }
      ],
      "source": [
        "dict1.get('d', 'llave no encontrada.')"
      ]
    },
    {
      "cell_type": "markdown",
      "metadata": {
        "id": "61VTvtMtLshB"
      },
      "source": [
        "Transformar diccionario en string:"
      ]
    },
    {
      "cell_type": "code",
      "execution_count": null,
      "metadata": {
        "colab": {
          "base_uri": "https://localhost:8080/",
          "height": 35
        },
        "id": "cuLeJeaKLshB",
        "outputId": "1e998393-c5c4-4782-8937-6af354d731f5"
      },
      "outputs": [
        {
          "output_type": "execute_result",
          "data": {
            "text/plain": [
              "\"{80: 'HTTP', 23: 'SMTP', 443: 'HTTPS'}\""
            ],
            "application/vnd.google.colaboratory.intrinsic+json": {
              "type": "string"
            }
          },
          "metadata": {},
          "execution_count": 19
        }
      ],
      "source": [
        "str(puertos)"
      ]
    },
    {
      "cell_type": "markdown",
      "metadata": {
        "id": "nTLQCb4oLshC"
      },
      "source": [
        "## Máximo y mínimo\n",
        "\n",
        "Obtener la llave con el valor máximo ó mínimo:\n"
      ]
    },
    {
      "cell_type": "code",
      "execution_count": null,
      "metadata": {
        "colab": {
          "base_uri": "https://localhost:8080/"
        },
        "id": "qy2jyumPLshC",
        "outputId": "03eba751-01c0-44c1-db0f-eebb06a648d0"
      },
      "outputs": [
        {
          "output_type": "execute_result",
          "data": {
            "text/plain": [
              "443"
            ]
          },
          "metadata": {},
          "execution_count": 15
        }
      ],
      "source": [
        "puertos = {80: \"HTTP\", 23 : \"SMTP\", 443 : \"HTTPS\"}\n",
        "max(puertos)"
      ]
    },
    {
      "cell_type": "code",
      "execution_count": null,
      "metadata": {
        "colab": {
          "base_uri": "https://localhost:8080/"
        },
        "id": "QTduvyfSLshC",
        "outputId": "1241d7b8-b98d-4676-d85c-b91a1d0ddf02"
      },
      "outputs": [
        {
          "output_type": "execute_result",
          "data": {
            "text/plain": [
              "23"
            ]
          },
          "metadata": {},
          "execution_count": 16
        }
      ],
      "source": [
        "min(puertos)"
      ]
    },
    {
      "cell_type": "markdown",
      "metadata": {
        "id": "knxWrGPwLshC"
      },
      "source": [
        "## Obtener una lista de llaves\n",
        "\n",
        "Para obtener una lista de las llaves se puede hacer lo siguiente:"
      ]
    },
    {
      "cell_type": "code",
      "execution_count": null,
      "metadata": {
        "colab": {
          "base_uri": "https://localhost:8080/"
        },
        "id": "GXb1cwTDLshC",
        "outputId": "7eaf5a70-8200-4b76-9533-685537909117"
      },
      "outputs": [
        {
          "output_type": "stream",
          "name": "stdout",
          "text": [
            "['a', 'b', 'c']\n"
          ]
        }
      ],
      "source": [
        "dict1 = {'a':1, 'b':2, 'c':3}\n",
        "print(list(dict1.keys()))"
      ]
    },
    {
      "cell_type": "markdown",
      "metadata": {
        "id": "ZKu2iV26LshD"
      },
      "source": [
        "## Obtener una lista de valores\n",
        "\n",
        "Para obtener una lista de los valores:"
      ]
    },
    {
      "cell_type": "code",
      "execution_count": null,
      "metadata": {
        "colab": {
          "base_uri": "https://localhost:8080/"
        },
        "id": "dawOUvw0LshD",
        "outputId": "0be28f33-843a-4e1e-c099-1e117fa32b7f"
      },
      "outputs": [
        {
          "output_type": "stream",
          "name": "stdout",
          "text": [
            "[1, 2, 3]\n"
          ]
        }
      ],
      "source": [
        "dict1 = {'a':1, 'b':2, 'c':3}\n",
        "print(list(dict1.values()))"
      ]
    },
    {
      "cell_type": "markdown",
      "metadata": {
        "id": "76dQk1PSLshE"
      },
      "source": [
        "## Conversion de listas de listas y listas de tuplas a diccionario\n",
        "\n",
        "Es posible convertir una lista de listas o una lista de tuplas en un diccionario usando ```dict```."
      ]
    },
    {
      "cell_type": "code",
      "execution_count": null,
      "metadata": {
        "colab": {
          "base_uri": "https://localhost:8080/"
        },
        "id": "nGq3OyqHLshE",
        "outputId": "b3a07339-eb98-4a13-b421-944e6b2a97d4"
      },
      "outputs": [
        {
          "output_type": "stream",
          "name": "stdout",
          "text": [
            "{80: 'http', 20: 'ftp', 23: 'telnet', 443: 'https', 53: 'DNS'}\n"
          ]
        }
      ],
      "source": [
        "puertos = [[80,\"http\"],[20,\"ftp\"],[23,\"telnet\"],[443,\"https\"],[53,\"DNS\"]]\n",
        "d_port = dict(puertos)\n",
        "print(d_port)"
      ]
    },
    {
      "cell_type": "code",
      "execution_count": null,
      "metadata": {
        "colab": {
          "base_uri": "https://localhost:8080/"
        },
        "id": "8TRnqvADLshE",
        "outputId": "0c04ac68-df23-445f-c63c-60096e051e04"
      },
      "outputs": [
        {
          "output_type": "stream",
          "name": "stdout",
          "text": [
            "{80: 'http', 20: 'ftp', 23: 'telnet', 443: 'https', 53: 'DNS'}\n"
          ]
        }
      ],
      "source": [
        "puertos = [(80,\"http\"),(20,\"ftp\"),(23,\"telnet\"),(443,\"https\"),(53,\"DNS\")]\n",
        "d_port = dict(puertos)\n",
        "print(d_port)"
      ]
    },
    {
      "cell_type": "markdown",
      "metadata": {
        "id": "qvq9CeleLshE"
      },
      "source": [
        "## Eliminar entradas de un diccionario\n",
        "\n",
        "Para eliminar todas las entradas de un diccionario se utiliza ```clear()```:"
      ]
    },
    {
      "cell_type": "code",
      "execution_count": null,
      "metadata": {
        "colab": {
          "base_uri": "https://localhost:8080/"
        },
        "id": "mMspKrRwLshF",
        "outputId": "976986c3-f9ea-4e42-ac1e-df00e0857f67"
      },
      "outputs": [
        {
          "output_type": "stream",
          "name": "stdout",
          "text": [
            "{22: 'SSH', 23: 'telnet', 80: 'Http'}\n",
            "{}\n"
          ]
        }
      ],
      "source": [
        "dict_ports = {22: \"SSH\", 23: \"telnet\", 80: \"Http\"}\n",
        "print(dict_ports)\n",
        "dict_ports.clear()\n",
        "print(dict_ports)"
      ]
    },
    {
      "cell_type": "markdown",
      "metadata": {
        "id": "YMrTzmALLshF"
      },
      "source": [
        "## Copiando un diccionario\n",
        "\n",
        "Para obtener la copia de un diccionario se puede utilzar ```dict.copy()```"
      ]
    },
    {
      "cell_type": "code",
      "execution_count": null,
      "metadata": {
        "id": "0xGwqQKPLshF"
      },
      "outputs": [],
      "source": [
        "port = {80: \"HTTP\", 23 : \"SMTP\", 443 : \"HTTPS\"}\n",
        "copy_port = port.copy()\n",
        "false_copy = port"
      ]
    },
    {
      "cell_type": "code",
      "execution_count": null,
      "metadata": {
        "colab": {
          "base_uri": "https://localhost:8080/"
        },
        "id": "RUNQJZ7TLshF",
        "outputId": "ddcd392a-b078-4639-9a18-e5fd4c520941"
      },
      "outputs": [
        {
          "output_type": "execute_result",
          "data": {
            "text/plain": [
              "True"
            ]
          },
          "metadata": {},
          "execution_count": 29
        }
      ],
      "source": [
        "false_copy is port"
      ]
    },
    {
      "cell_type": "code",
      "execution_count": null,
      "metadata": {
        "colab": {
          "base_uri": "https://localhost:8080/"
        },
        "id": "3o2wNqsDLshG",
        "outputId": "37b23f0b-d07e-44bb-fe23-faf5dd7028aa"
      },
      "outputs": [
        {
          "output_type": "execute_result",
          "data": {
            "text/plain": [
              "False"
            ]
          },
          "metadata": {},
          "execution_count": 30
        }
      ],
      "source": [
        "copy_port is port"
      ]
    },
    {
      "cell_type": "code",
      "execution_count": null,
      "metadata": {
        "colab": {
          "base_uri": "https://localhost:8080/"
        },
        "id": "3KxLY23ILshG",
        "outputId": "06d14636-39b6-49be-c647-24c89a203075"
      },
      "outputs": [
        {
          "output_type": "stream",
          "name": "stdout",
          "text": [
            "{80: 'HTTP', 23: 'SMTP', 443: 'HTTPS'}\n"
          ]
        }
      ],
      "source": [
        "print(copy_port)"
      ]
    },
    {
      "cell_type": "markdown",
      "metadata": {
        "id": "tcSuFevjLshG"
      },
      "source": [
        "## Obtener una lista de tuplas de un diccionario\n",
        "\n",
        "Para obtener una lista de tuplas correspondiente al diccionario se utiliza ```items```:"
      ]
    },
    {
      "cell_type": "code",
      "execution_count": null,
      "metadata": {
        "colab": {
          "base_uri": "https://localhost:8080/"
        },
        "id": "4iKDimsPLshH",
        "outputId": "503f0c70-5ad4-496d-9b12-339c57333fb1"
      },
      "outputs": [
        {
          "output_type": "stream",
          "name": "stdout",
          "text": [
            "[(22, 'SSH'), (23, 'telnet'), (80, 'Http')]\n"
          ]
        }
      ],
      "source": [
        "dict_ports1 = {22: \"SSH\", 23: \"telnet\", 80: \"Http\"}\n",
        "print(list(dict_ports1.items()))"
      ]
    },
    {
      "cell_type": "markdown",
      "metadata": {
        "id": "qrfsmXf2LshI"
      },
      "source": [
        "### Ejercicio 1\n",
        "\n",
        "Utilizando el diccionario de puertos ```port1 = {21: \"FTP\", 22:\"SSH\", 23: \"telnet\", 80:\n",
        "\"http\"}``` cree un nuevo diccionario donde las llaves se vuelvan valores y los valores llaves: así: ```port2 = {\"FTP\":21, \"SSH\":22, \"telnet\":23, \"http\": 80}```\n",
        "\n"
      ]
    },
    {
      "cell_type": "code",
      "execution_count": 4,
      "metadata": {
        "id": "qn-IfT4mLshI",
        "colab": {
          "base_uri": "https://localhost:8080/"
        },
        "outputId": "20a883ec-b94a-4d03-ee71-77c94f644c4e"
      },
      "outputs": [
        {
          "output_type": "stream",
          "name": "stdout",
          "text": [
            "{'FTP': 21, 'SSH': 22, 'telnet': 23, 'http': 80}\n"
          ]
        }
      ],
      "source": [
        "port1 = {21: \"FTP\", 22:\"SSH\", 23: \"telnet\", 80: \"http\"}\n",
        "\n",
        "port2 = {value: key for key, value in port1.items()}\n",
        "\n",
        "print (port2)\n",
        "\n"
      ]
    },
    {
      "cell_type": "markdown",
      "metadata": {
        "id": "OZ-LgvjTLshJ"
      },
      "source": [
        "### Ejercicio 2: Yendo al mercado\n",
        "\n",
        "Dory quiere ir al mercado a comprar frutas y vegetales.\n",
        "\n",
        "Entrada:\n",
        "La entrada de este problema contiene un diccionario que contiene 5 productos con sus precios respectivos por kg. La siguiente entrada contiene la cantidad de kg que Dory quiere comprar de cada uno.\n",
        "\n",
        "Salida:\n",
        "Muestre el dinero gastado por Dory en el mercado.\n",
        "\n",
        "<table>\n",
        "            uva 2.50<br>\n",
        "            banano 4.00<br>\n",
        "            pera 2.10<br>\n",
        "            granadilla 6.00<br>\n",
        "            naranja 5.00<br>\n",
        "            <br>\n",
        "            uva 10<br>\n",
        "            banano 10<br>\n",
        "            pera 15<br>\n",
        "            granadilla 12<br>\n",
        "            naranja 18<br>\n",
        "        </tr>\n",
        "</table>\n",
        "   \n"
      ]
    },
    {
      "cell_type": "code",
      "source": [
        "productos= {\n",
        "\n",
        "\"uva\": 2.50,\n",
        "\"banano\": 4.00,\n",
        "\"pera\": 2.10,\n",
        "\"granadilla\": 6.00,\n",
        "\"naranja\": 5.00\n",
        "\n",
        "}\n",
        "\n",
        "cantidad= {\n",
        "\n",
        "\"uva\": 10,\n",
        "\"banano\": 10,\n",
        "\"pera\": 15,\n",
        "\"granadilla\": 12,\n",
        "\"naranja\": 18\n",
        "\n",
        "}\n",
        "\n",
        "dinerogastado = sum(productos[producto] * cantidad[producto] for producto in productos)\n",
        "print(f\"El dinero gastado por Dory en el mercado es: {dinerogastado} USD\")"
      ],
      "metadata": {
        "colab": {
          "base_uri": "https://localhost:8080/"
        },
        "id": "B2bHUxpqRq2C",
        "outputId": "13703108-2292-4062-c5fd-7bcd2a22ce55"
      },
      "execution_count": 3,
      "outputs": [
        {
          "output_type": "stream",
          "name": "stdout",
          "text": [
            "El dinero gastado por Dory en el mercado es: 258.5 USD\n"
          ]
        }
      ]
    },
    {
      "cell_type": "markdown",
      "source": [
        "# Ejercicio 3\n",
        "\n",
        "Escribir un programa que cree un diccionario de traducción español-inglés. El usuario introducirá las palabras en español e inglés separadas por dos puntos, y cada par `palabra`:`traducción` separados por comas. El programa debe crear un diccionario con las palabras y sus traducciones. Después pedirá una frase en español y utilizará el diccionario para traducirla palabra a palabra. Si una palabra no está en el diccionario debe dejarla sin traducir."
      ],
      "metadata": {
        "id": "AewkA2lK7aQM"
      }
    },
    {
      "cell_type": "code",
      "execution_count": 6,
      "metadata": {
        "id": "Z9ao2Xn5LshJ",
        "colab": {
          "base_uri": "https://localhost:8080/"
        },
        "outputId": "842c2851-6b32-4971-8d4d-5d5be657c167"
      },
      "outputs": [
        {
          "output_type": "stream",
          "name": "stdout",
          "text": [
            "introduce las palabras y traduccionesadios:good bye\n",
            "Introduce una frase en español: adios\n",
            "good bye "
          ]
        }
      ],
      "source": [
        "diccionario = {}\n",
        "palabras=input (\"introduce las palabras y traducciones\")\n",
        "\n",
        "for pal in palabras.split(','):\n",
        "    clave, valor = pal.split(':')\n",
        "    diccionario[clave] = valor\n",
        "frase = input('Introduce una frase en español: ')\n",
        "for pal in frase.split():\n",
        "    if pal in diccionario:\n",
        "        print(diccionario[pal], end=' ')\n",
        "    else:\n",
        "        print(pal, end=' ')"
      ]
    },
    {
      "cell_type": "markdown",
      "metadata": {
        "id": "hQGtbXIFLshP"
      },
      "source": [
        "### Referencias:\n",
        "\n",
        "Barry, P. (2016). Head First Python: A Brain-Friendly Guide. \" O'Reilly Media, Inc.\".\n",
        "\n",
        "Das, B. N. (2017). Learn Python in 7 Days. Packt Publishing Ltd.\n",
        "\n",
        "https://codeforces.com/\n",
        "\n",
        "Rodríguez, A (2020). Curso de Programación en Python. https://github.com/arleserp/cursopython"
      ]
    },
    {
      "cell_type": "code",
      "execution_count": null,
      "metadata": {
        "id": "q1ClH2ufLshP"
      },
      "outputs": [],
      "source": []
    }
  ],
  "metadata": {
    "kernelspec": {
      "display_name": "Python 3",
      "language": "python",
      "name": "python3"
    },
    "language_info": {
      "codemirror_mode": {
        "name": "ipython",
        "version": 3
      },
      "file_extension": ".py",
      "mimetype": "text/x-python",
      "name": "python",
      "nbconvert_exporter": "python",
      "pygments_lexer": "ipython3",
      "version": "3.7.3"
    },
    "colab": {
      "provenance": [],
      "collapsed_sections": [
        "hQGtbXIFLshP"
      ],
      "include_colab_link": true
    }
  },
  "nbformat": 4,
  "nbformat_minor": 0
}