{
  "cells": [
    {
      "cell_type": "markdown",
      "metadata": {
        "id": "view-in-github",
        "colab_type": "text"
      },
      "source": [
        "<a href=\"https://colab.research.google.com/github/Valentina3147/ValentinaLopez/blob/main/Listas_Parte_I.ipynb\" target=\"_parent\"><img src=\"https://colab.research.google.com/assets/colab-badge.svg\" alt=\"Open In Colab\"/></a>"
      ]
    },
    {
      "cell_type": "markdown",
      "metadata": {
        "id": "uDOp__GR2Rjx"
      },
      "source": [
        "## Listas\n",
        "\n",
        "Una lista es una secuencia de elementos que puede almacenar datos heterogeneos tales como: float, strings, tuplas, listas y diccionarios. Una lista se escribe como la secuencia de datos a mantener, separados por una coma y delimitada por los paréntesis cuadrados.\n",
        "\n",
        "A diferencia de las cadenas de carácter y las tuplas, las listas son mutables, esto es, se pueden modificar después de definidas.\n",
        "\n",
        "Una lista puede entenderse como una colección indexada de objetos. A cada elemento le corresponde una posición. Una lista puede almacenar objetos de diferente tipo en la misma estructura. Es posible también añadir, remover, o cambiar objetos. Esto quiere decir que las listas son mutables."
      ]
    },
    {
      "cell_type": "code",
      "execution_count": null,
      "metadata": {
        "colab": {
          "base_uri": "https://localhost:8080/"
        },
        "id": "zhB4DHO82Rj2",
        "outputId": "ffc507d9-03b3-4a18-ffd0-c849732f93d0"
      },
      "outputs": [
        {
          "output_type": "stream",
          "name": "stdout",
          "text": [
            "[]\n"
          ]
        }
      ],
      "source": [
        "#Así se crea una lista vacía\n",
        "lis = []\n",
        "print(lis)"
      ]
    },
    {
      "cell_type": "code",
      "execution_count": null,
      "metadata": {
        "colab": {
          "base_uri": "https://localhost:8080/"
        },
        "id": "POJQl1S32Rj4",
        "outputId": "dae942df-a6c9-427b-9647-a69de1b99fac"
      },
      "outputs": [
        {
          "output_type": "stream",
          "name": "stdout",
          "text": [
            "['Este es un elemento']\n"
          ]
        }
      ],
      "source": [
        "#Una lista con un elemento\n",
        "list2 = [\"Este es un elemento\"]\n",
        "print(list2)"
      ]
    },
    {
      "cell_type": "markdown",
      "metadata": {
        "id": "UMginSdf2Rj5"
      },
      "source": [
        "Para crear una lista, se almacenan los valores separados por comas:"
      ]
    },
    {
      "cell_type": "code",
      "execution_count": null,
      "metadata": {
        "colab": {
          "base_uri": "https://localhost:8080/"
        },
        "id": "bDeS0xdq2Rj6",
        "outputId": "2c17a53b-f3f9-46bb-bff4-651ecca58c42"
      },
      "outputs": [
        {
          "output_type": "stream",
          "name": "stdout",
          "text": [
            "[1, 2, 3, 4.6, 'hola', 'a']\n"
          ]
        }
      ],
      "source": [
        "lista3 = [1, 2, 3, 4.6, 'hola', 'a'] #una lista de 6 elementos\n",
        "print(lista3)"
      ]
    },
    {
      "cell_type": "code",
      "execution_count": null,
      "metadata": {
        "colab": {
          "base_uri": "https://localhost:8080/"
        },
        "id": "UCbfh9AE2Rj7",
        "outputId": "9f97284e-bc02-4dc5-80c8-8b895931906e"
      },
      "outputs": [
        {
          "output_type": "execute_result",
          "data": {
            "text/plain": [
              "list"
            ]
          },
          "metadata": {},
          "execution_count": 4
        }
      ],
      "source": [
        "type(lista3)"
      ]
    },
    {
      "cell_type": "markdown",
      "metadata": {
        "id": "krfbXemo2Rj7"
      },
      "source": [
        "## Listas anidadas (Listas de listas)\n",
        "\n",
        "Es posible crear listas que tengan listas como elementos (anidadas):"
      ]
    },
    {
      "cell_type": "code",
      "execution_count": null,
      "metadata": {
        "colab": {
          "base_uri": "https://localhost:8080/"
        },
        "id": "RtgALk6I2Rj8",
        "outputId": "593384cb-95fe-4904-cf70-d2504ab87fea"
      },
      "outputs": [
        {
          "output_type": "stream",
          "name": "stdout",
          "text": [
            "[[0, 1, 2, 3], ['A', 'B', 'C']]\n",
            "[0, 1, 2, 3]\n",
            "A\n"
          ]
        }
      ],
      "source": [
        "lista1 = [0, 1, 2, 3]\n",
        "lista2 = ['A', 'B', 'C']\n",
        "lista3 = [lista1, lista2]\n",
        "print(lista3)\n",
        "print(lista3[0])\n",
        "print(lista3[1][0])"
      ]
    },
    {
      "cell_type": "markdown",
      "metadata": {
        "id": "0hT30_iD2Rj9"
      },
      "source": [
        "## Operador concatenar\n",
        "\n",
        "Concatena dos listas produciendo una nueva."
      ]
    },
    {
      "cell_type": "code",
      "execution_count": null,
      "metadata": {
        "colab": {
          "base_uri": "https://localhost:8080/"
        },
        "id": "kGPF5BZA2Rj-",
        "outputId": "787d527b-c701-4ae4-d63e-ddc233372071"
      },
      "outputs": [
        {
          "output_type": "stream",
          "name": "stdout",
          "text": [
            "['A', 'B', 'C', 'E', 1, 2, 3, 4, 5]\n"
          ]
        }
      ],
      "source": [
        "list1 = ['A', 'B', 'C', 'E']\n",
        "list2 = [1,2,3,4,5]\n",
        "list3 = list1 + list2\n",
        "print(list3)"
      ]
    },
    {
      "cell_type": "markdown",
      "metadata": {
        "id": "jIFBxuhw2Rj-"
      },
      "source": [
        "## Operador extender\n",
        "\n",
        "El método `extend` agrega una lista al final de otra lista."
      ]
    },
    {
      "cell_type": "code",
      "execution_count": null,
      "metadata": {
        "colab": {
          "base_uri": "https://localhost:8080/"
        },
        "id": "CA2tRX-m2Rj_",
        "outputId": "4a18cc87-4b77-4b68-a379-b1ea91ce1f35"
      },
      "outputs": [
        {
          "output_type": "stream",
          "name": "stdout",
          "text": [
            "['Antonio', 'María', 'Mabel', 'Barry', 'John', 'Guttag']\n"
          ]
        }
      ],
      "source": [
        "nombres = ['Antonio', 'María', 'Mabel']\n",
        "otros_nombres = ['Barry', 'John', 'Guttag']\n",
        "nombres.extend(otros_nombres)\n",
        "print(nombres)"
      ]
    },
    {
      "cell_type": "markdown",
      "metadata": {
        "id": "KifxwJI32RkB"
      },
      "source": [
        "## Operador repetir\n",
        "\n",
        "Crea una tupla con múltiples copias de una lista, tantas como se defina:"
      ]
    },
    {
      "cell_type": "code",
      "execution_count": null,
      "metadata": {
        "colab": {
          "base_uri": "https://localhost:8080/"
        },
        "id": "EOKyuX4i2RkC",
        "outputId": "a93e02c6-fc7b-4f23-9200-b92830852421"
      },
      "outputs": [
        {
          "output_type": "stream",
          "name": "stdout",
          "text": [
            "[1, 2, 3, 4, 5, 1, 2, 3, 4, 5, 1, 2, 3, 4, 5]\n",
            "['Abc', 'Bcd', 'Abc', 'Bcd']\n"
          ]
        }
      ],
      "source": [
        "list2 = [1,2,3,4,5]\n",
        "list3 = list2*3\n",
        "print(list3)\n",
        "list4 = ['Abc', 'Bcd']\n",
        "list5 = list4*2\n",
        "print(list5)"
      ]
    },
    {
      "cell_type": "markdown",
      "metadata": {
        "id": "j_GBKIHO2RkD"
      },
      "source": [
        "## Operador Comparar\n"
      ]
    },
    {
      "cell_type": "markdown",
      "metadata": {
        "id": "aDW4vHgj2RkG"
      },
      "source": [
        "Se puede usar el operador `is` para determinar si dos listas son la misma (referencian al mismo objeto). Para el programa"
      ]
    },
    {
      "cell_type": "code",
      "execution_count": null,
      "metadata": {
        "id": "sYBKBFyD2RkH",
        "outputId": "41b80edd-7d83-4aa5-fa2c-852f58cb8265",
        "colab": {
          "base_uri": "https://localhost:8080/"
        }
      },
      "outputs": [
        {
          "output_type": "stream",
          "name": "stdout",
          "text": [
            "True\n",
            "False\n",
            "True\n",
            "True\n"
          ]
        }
      ],
      "source": [
        "a = ['Rojas', 123]\n",
        "b = [\"Rojas\", 123]\n",
        "c = a\n",
        "print( a == b )\n",
        "print( a is b )\n",
        "print( a == c )\n",
        "print( a is c )"
      ]
    },
    {
      "cell_type": "markdown",
      "metadata": {
        "id": "nTw7PQe12RkI"
      },
      "source": [
        "## Operador subindice [] (subscript)\n",
        "\n",
        "Para acceder a un valor particular de una tupla se especifica su posición con corchetes []:"
      ]
    },
    {
      "cell_type": "code",
      "execution_count": null,
      "metadata": {
        "colab": {
          "base_uri": "https://localhost:8080/"
        },
        "id": "G3Mzr5__2RkJ",
        "outputId": "feaf25d4-b57f-4417-a910-352e46b3ed3e"
      },
      "outputs": [
        {
          "output_type": "stream",
          "name": "stdout",
          "text": [
            "Ironman\n",
            "Hulk\n",
            "Hulk\n",
            "Spiderman\n"
          ]
        }
      ],
      "source": [
        "avengers = [\"Ironman\", \"Spiderman\", \"Ant-man\", \"Hulk\"]\n",
        "print(avengers[0])\n",
        "print(avengers[3])\n",
        "print(avengers[-1])\n",
        "print(avengers[-3])"
      ]
    },
    {
      "cell_type": "markdown",
      "metadata": {
        "id": "tfFpFicc2RkK"
      },
      "source": [
        "## Consultando una lista\n",
        "\n",
        "Es posible determinar si un elemento se encuentra en una lista."
      ]
    },
    {
      "cell_type": "code",
      "execution_count": null,
      "metadata": {
        "colab": {
          "base_uri": "https://localhost:8080/"
        },
        "id": "rMiAx5Vo2RkK",
        "outputId": "34bd451c-3c3a-4e66-bfdb-7d3b2ec4ce00"
      },
      "outputs": [
        {
          "output_type": "stream",
          "name": "stdout",
          "text": [
            "yes\n"
          ]
        }
      ],
      "source": [
        "text = ['cien', 'años', 'de', 'soledad']\n",
        "if 'años' in text:\n",
        "  print('yes')"
      ]
    },
    {
      "cell_type": "markdown",
      "metadata": {
        "id": "sSdH-jKl2RkL"
      },
      "source": [
        "Es posible determinar si un elemento no se encuentra en una lista."
      ]
    },
    {
      "cell_type": "code",
      "execution_count": null,
      "metadata": {
        "colab": {
          "base_uri": "https://localhost:8080/"
        },
        "id": "7nU7ofkM2RkM",
        "outputId": "57f9852f-1a9c-496e-a51c-76ad0b1b6f2f"
      },
      "outputs": [
        {
          "output_type": "stream",
          "name": "stdout",
          "text": [
            "No esta en la lista\n"
          ]
        }
      ],
      "source": [
        "text = ['cien', 'años', 'de', 'soledad']\n",
        "if 'sien' not in text:\n",
        "    print('No esta en la lista')\n",
        "else:\n",
        "    print('Esta en la lista')"
      ]
    },
    {
      "cell_type": "markdown",
      "metadata": {
        "id": "20m-1mIB2RkN"
      },
      "source": [
        "## Iterando una lista\n",
        "\n",
        "Es posible iterar una lista usando el ciclo `for`:"
      ]
    },
    {
      "cell_type": "code",
      "execution_count": null,
      "metadata": {
        "id": "NbauhFKz2RkN",
        "outputId": "42d88617-568c-42c2-8652-6bededad2cd4",
        "colab": {
          "base_uri": "https://localhost:8080/"
        }
      },
      "outputs": [
        {
          "output_type": "stream",
          "name": "stdout",
          "text": [
            "hola, amigos, mios, "
          ]
        }
      ],
      "source": [
        "s = [\"hola\", \"amigos\", \"mios\"]\n",
        "for palabra in s:  #para cada palabra de la lista\n",
        "    print(palabra + \",\", end=' ')"
      ]
    },
    {
      "cell_type": "markdown",
      "metadata": {
        "id": "q8AO7SO82RkO"
      },
      "source": [
        "## Creando una lista (comprehension lists)\n",
        "\n",
        "Es posible asignarle una lista a una variable usando la asignación, el ciclo `for` y el concepto de lista."
      ]
    },
    {
      "cell_type": "code",
      "execution_count": null,
      "metadata": {
        "colab": {
          "base_uri": "https://localhost:8080/"
        },
        "id": "iMW20qFi2RkO",
        "outputId": "05972c7a-ee3c-4c01-fa52-9b5173053ff9"
      },
      "outputs": [
        {
          "output_type": "stream",
          "name": "stdout",
          "text": [
            "[10, 11, 12, 13, 14]\n",
            "[9, 27, 81, 243]\n"
          ]
        }
      ],
      "source": [
        "d = 10\n",
        "desplaza = [d+x for x in range(5)]\n",
        "print(desplaza)\n",
        "potencias = [3 ** x for x in range(2,6)]\n",
        "print(potencias)"
      ]
    },
    {
      "cell_type": "markdown",
      "metadata": {
        "id": "N0VhzM5I2RkP"
      },
      "source": [
        "## Asignando múltiples valores desde una lista\n",
        "\n",
        "Es posible asignarle los valores a un grupo de variables usando la asignación y el concepto de lista (desempacando)."
      ]
    },
    {
      "cell_type": "code",
      "execution_count": null,
      "metadata": {
        "colab": {
          "base_uri": "https://localhost:8080/"
        },
        "id": "z6668oTR2RkQ",
        "outputId": "70c00e87-ab62-4c65-b851-fd73bffedcb7"
      },
      "outputs": [
        {
          "output_type": "stream",
          "name": "stdout",
          "text": [
            "a= 1\n",
            "b= -2\n",
            "c= 3\n"
          ]
        }
      ],
      "source": [
        "lista = [1, -2, 3]\n",
        "a, b, c = lista\n",
        "print('a=', a)\n",
        "print('b=', b)\n",
        "print('c=', c)"
      ]
    },
    {
      "cell_type": "markdown",
      "metadata": {
        "id": "-Id-mmTZ2RkV"
      },
      "source": [
        "## Cambiando elementos"
      ]
    },
    {
      "cell_type": "markdown",
      "metadata": {
        "id": "xHEma1NE2RkW"
      },
      "source": [
        "Es posible cambiar un elemento en una posición de una lista."
      ]
    },
    {
      "cell_type": "code",
      "execution_count": null,
      "metadata": {
        "colab": {
          "base_uri": "https://localhost:8080/"
        },
        "id": "96eLNG_I2RkW",
        "outputId": "b70a7dcf-8125-4a2a-c583-0cd4615a79f1"
      },
      "outputs": [
        {
          "output_type": "stream",
          "name": "stdout",
          "text": [
            "['e', 'l', 'm', 'e', 'j', 'o', 'r']\n",
            "['e', 'l', 'm', 'e', 'l', 'o', 'r']\n",
            "['e', 'l', 'm', 'e', 'l', 'o', 's']\n"
          ]
        }
      ],
      "source": [
        "lista = ['E', 'l', 'm', 'e', 'j', 'o', 'r']\n",
        "lista[0] = 'e'\n",
        "print(lista)\n",
        "lista[4] = 'l'\n",
        "print(lista)\n",
        "lista[-1] = 's'\n",
        "print(lista)"
      ]
    },
    {
      "cell_type": "markdown",
      "metadata": {
        "id": "26XyP8tq2RkX"
      },
      "source": [
        "## Agregando elementos `append`\n",
        "\n",
        "El método `append` permite agregar elementos al final de una lista."
      ]
    },
    {
      "cell_type": "code",
      "execution_count": null,
      "metadata": {
        "colab": {
          "base_uri": "https://localhost:8080/"
        },
        "id": "wkk8lVUc2RkX",
        "outputId": "ef5db278-5392-41f0-e99b-6e7fe7982de4"
      },
      "outputs": [
        {
          "output_type": "stream",
          "name": "stdout",
          "text": [
            "['Antonio', 'Johan', 'Monica']\n",
            "['Antonio', 'Johan', 'Monica', 'Maria']\n",
            "['Antonio', 'Johan', 'Monica', 'Maria', 'Mabel']\n"
          ]
        }
      ],
      "source": [
        "nombres = ['Antonio', 'Johan']\n",
        "nombres.append('Monica')\n",
        "print(nombres)\n",
        "nombres.append('Maria')\n",
        "print(nombres)\n",
        "nombres.append('Mabel')\n",
        "print(nombres)"
      ]
    },
    {
      "cell_type": "markdown",
      "metadata": {
        "id": "hCrVp6xB2RkY"
      },
      "source": [
        "## Insertando elementos `insert`\n",
        "\n",
        "El método `insert` permite insertar (agregar) elementos en una posición específica de una lista."
      ]
    },
    {
      "cell_type": "code",
      "execution_count": null,
      "metadata": {
        "colab": {
          "base_uri": "https://localhost:8080/"
        },
        "id": "e_E4y-LX2RkY",
        "outputId": "761fa7e4-3364-40b1-d6a2-0e9ac7a57a7e"
      },
      "outputs": [
        {
          "output_type": "stream",
          "name": "stdout",
          "text": [
            "['Guttag', 'Antonio', 'Johan', 'Maria']\n",
            "['Guttag', 'Antonio', 'Peter', 'Johan', 'Maria']\n",
            "['Guttag', 'Antonio', 10, 'Peter', 'Johan', 'Maria']\n"
          ]
        }
      ],
      "source": [
        "nombres = ['Antonio', 'Johan', 'Maria']\n",
        "nombres.insert(0, 'Guttag')\n",
        "print(nombres)\n",
        "nombres.insert(2, 'Peter')\n",
        "print(nombres)\n",
        "nombres.insert(len(nombres)//2, 10)\n",
        "print(nombres)"
      ]
    },
    {
      "cell_type": "markdown",
      "metadata": {
        "id": "1aS6lint2RkZ"
      },
      "source": [
        "## Eliminando elementos `remove`\n",
        "\n",
        "El método `remove` permite eliminar la primera aparición (de izquierda a derecha) de un elemento de una lista."
      ]
    },
    {
      "cell_type": "code",
      "execution_count": null,
      "metadata": {
        "colab": {
          "base_uri": "https://localhost:8080/"
        },
        "id": "K-0KBafX2RkZ",
        "outputId": "3d840d7d-08dc-4b8a-cbfc-fd1885683641"
      },
      "outputs": [
        {
          "output_type": "stream",
          "name": "stdout",
          "text": [
            "['a', 'e', 'i', 'o', 'u', 'i', 'x']\n",
            "['a', 'e', 'i', 'o', 'u', 'i']\n",
            "['a', 'e', 'o', 'u', 'i']\n"
          ]
        }
      ],
      "source": [
        "lista = ['a', 'e', 'i', 'o', 'u', 'i', 'x']\n",
        "print(lista)\n",
        "lista.remove('x')\n",
        "print(lista)\n",
        "lista.remove('i')\n",
        "print(lista)"
      ]
    },
    {
      "cell_type": "markdown",
      "metadata": {
        "id": "iPTrmy7-2Rka"
      },
      "source": [
        "## Sublistas (slice) - operador subscript []\n",
        "\n",
        "La función [] obtiene una porción (sublista) de una lista"
      ]
    },
    {
      "cell_type": "code",
      "execution_count": null,
      "metadata": {
        "colab": {
          "base_uri": "https://localhost:8080/"
        },
        "id": "Zy3h28RW2Rka",
        "outputId": "fd77efc3-d284-48bc-da33-0acb5d5d30d8"
      },
      "outputs": [
        {
          "output_type": "stream",
          "name": "stdout",
          "text": [
            "['Spiderman', 'Ant-man']\n",
            "['Hulk', 'Ant-man', 'Spiderman', 'Ironman']\n"
          ]
        },
        {
          "output_type": "execute_result",
          "data": {
            "text/plain": [
              "['Hulk', 'Ant-man', 'Spiderman', 'Ironman']"
            ]
          },
          "metadata": {},
          "execution_count": 20
        }
      ],
      "source": [
        "avengers = [\"Ironman\", \"Spiderman\", \"Ant-man\", \"Hulk\"]\n",
        "print(avengers[1:3])\n",
        "print(avengers[::-1])\n",
        "avengers.reverse()\n",
        "avengers"
      ]
    },
    {
      "cell_type": "markdown",
      "metadata": {
        "id": "GfwRp4XX2Rkb"
      },
      "source": [
        "## Contando `count`\n",
        "\n",
        "El método `count` obtiene las veces que un elemento se encuentra en una lista."
      ]
    },
    {
      "cell_type": "code",
      "execution_count": null,
      "metadata": {
        "colab": {
          "base_uri": "https://localhost:8080/"
        },
        "id": "cyvMAnxY2Rkb",
        "outputId": "a556c7d3-639f-406a-a9fa-d081d25b1392"
      },
      "outputs": [
        {
          "output_type": "stream",
          "name": "stdout",
          "text": [
            "1\n",
            "3\n",
            "1\n"
          ]
        }
      ],
      "source": [
        "lista = [4, 3, 8, 8, 2, 5, 4, 6, 8, 9]\n",
        "print(lista.count(2))\n",
        "print(lista.count(8))\n",
        "print(lista.count(5))"
      ]
    },
    {
      "cell_type": "markdown",
      "metadata": {
        "id": "xXyJAssE2Rkc"
      },
      "source": [
        "## Buscando `index`\n",
        "\n",
        "El método `index` obtiene la primera ocurrencia de un elemento en una lista."
      ]
    },
    {
      "cell_type": "code",
      "execution_count": null,
      "metadata": {
        "colab": {
          "base_uri": "https://localhost:8080/"
        },
        "id": "GKNh9Vxm2Rkc",
        "outputId": "989144ce-3a55-4bf0-b173-b5671c525a61"
      },
      "outputs": [
        {
          "output_type": "stream",
          "name": "stdout",
          "text": [
            "4\n",
            "2\n",
            "5\n"
          ]
        }
      ],
      "source": [
        "lista = [4, 3, 8, 8, 2, 5, 4, 6, 8, 9]\n",
        "print(lista.index(2))\n",
        "print(lista.index(8))\n",
        "print(lista.index(5))"
      ]
    },
    {
      "cell_type": "markdown",
      "metadata": {
        "id": "19whMAQI2Rkd"
      },
      "source": [
        "## Máximo y mínimo `max, min`\n",
        "\n",
        "El método `max/min` obtiene el maximo/mínimo elemento de una lista."
      ]
    },
    {
      "cell_type": "code",
      "execution_count": null,
      "metadata": {
        "colab": {
          "base_uri": "https://localhost:8080/"
        },
        "id": "NgFW_dAC2Rkd",
        "outputId": "16849023-7bde-4f3a-bd60-1a203f018ebf"
      },
      "outputs": [
        {
          "output_type": "stream",
          "name": "stdout",
          "text": [
            "7\n",
            "-1\n"
          ]
        }
      ],
      "source": [
        "lista = [4,5,-1,6,7]\n",
        "print(max(lista))\n",
        "print(min(lista))"
      ]
    },
    {
      "cell_type": "markdown",
      "metadata": {
        "id": "RY8iuaCL2Rkd"
      },
      "source": [
        "## Ordenando `sort`\n",
        "\n",
        "El método `sort` ordena una lista. Se le puede indicar si ascendente o descendentemente, al igual que el criterio (llave) usado para ordenar. Aquí solo se considera el ordenamiento sencillo."
      ]
    },
    {
      "cell_type": "code",
      "execution_count": null,
      "metadata": {
        "colab": {
          "base_uri": "https://localhost:8080/"
        },
        "id": "5diKAKw-2Rkd",
        "outputId": "23a54af7-9aa5-4704-c1f2-2f26255a5f13"
      },
      "outputs": [
        {
          "output_type": "stream",
          "name": "stdout",
          "text": [
            "[-1, 4, 5, 6, 7]\n",
            "[7, 6, 5, 4, -1]\n"
          ]
        }
      ],
      "source": [
        "lista = [4,5,-1,6,7]\n",
        "lista.sort() #De menor a mayor\n",
        "print(lista)\n",
        "lista.sort(reverse=True) #De mayor a menor\n",
        "print(lista)"
      ]
    },
    {
      "cell_type": "markdown",
      "metadata": {
        "id": "1LgJb_Ro2Rkd"
      },
      "source": [
        "## Convertir a lista `list`\n",
        "\n",
        "El método `list` se usa para crear listas a partir de otros objetos, aquí se usa para convertir una cadena de carácteres y una tupla a listas.\n",
        "\n"
      ]
    },
    {
      "cell_type": "code",
      "execution_count": null,
      "metadata": {
        "colab": {
          "base_uri": "https://localhost:8080/"
        },
        "id": "gsVuK3742Rke",
        "outputId": "f98f6538-53cf-4316-9665-2738e993a948"
      },
      "outputs": [
        {
          "output_type": "stream",
          "name": "stdout",
          "text": [
            "['D', 'u', 'm', 'b', 'l', 'e', 'd', 'o', 'r', 'e']\n",
            "[1, 2, 3, 4]\n"
          ]
        }
      ],
      "source": [
        "magician = 'Dumbledore'\n",
        "lm = list(magician)\n",
        "print(lm)\n",
        "t = ( 1, 2, 3, 4 )\n",
        "lt = list(t)\n",
        "print(lt)"
      ]
    },
    {
      "cell_type": "markdown",
      "metadata": {
        "id": "XGqDOAPI2Rkf"
      },
      "source": [
        "## Remover en una posición `pop`\n",
        "\n",
        "En el caso en el que se requiera eliminar un elemento de una posición específica de la lista. El método pop recibe como parámetro la posición del elemento a remover. Las posiciones en las listas empiezan en cero. Si no se especifican parámetros, se remueve el último elemento de la lista."
      ]
    },
    {
      "cell_type": "code",
      "execution_count": null,
      "metadata": {
        "colab": {
          "base_uri": "https://localhost:8080/"
        },
        "id": "iMBdEtio2Rkf",
        "outputId": "692700b8-a10d-4c90-d2bd-cf60836fe40e"
      },
      "outputs": [
        {
          "output_type": "stream",
          "name": "stdout",
          "text": [
            "['Antonio', 'Monica', 'María', 'Mabel']\n",
            "Mabel ha sido eliminada de la lista.\n",
            "['Antonio', 'Monica', 'María']\n"
          ]
        }
      ],
      "source": [
        "nombres = ['Antonio', 'Johan', 'Monica', 'María', 'Mabel']\n",
        "nombres.pop(1) #remueve a Johan\n",
        "print(nombres)\n",
        "nombre_borrado = nombres.pop() # remueve a Mabel\n",
        "print(nombre_borrado + \" ha sido eliminada de la lista.\")\n",
        "print(nombres)"
      ]
    },
    {
      "cell_type": "markdown",
      "source": [
        "## Parece una copia pero no lo es:\n",
        "\n",
        "Cuando se copia una lista existente a otra lista uno se puede ver tentado a hacer lo siguiente:"
      ],
      "metadata": {
        "id": "jtW2GTGTDtu0"
      }
    },
    {
      "cell_type": "code",
      "source": [
        "first = [1,2,3,4,5]\n",
        "first"
      ],
      "metadata": {
        "id": "8f9cl_LvDoai",
        "colab": {
          "base_uri": "https://localhost:8080/"
        },
        "outputId": "45ec0a9f-3ab6-4ebb-c439-3a747c47c863"
      },
      "execution_count": null,
      "outputs": [
        {
          "output_type": "execute_result",
          "data": {
            "text/plain": [
              "[1, 2, 3, 4, 5]"
            ]
          },
          "metadata": {},
          "execution_count": 27
        }
      ]
    },
    {
      "cell_type": "code",
      "source": [
        "second = first\n",
        "first.append(6)\n",
        "first"
      ],
      "metadata": {
        "id": "3MXSDT9eDoXh",
        "colab": {
          "base_uri": "https://localhost:8080/"
        },
        "outputId": "89225cd4-3df4-4fd7-8fa3-eed79de533ef"
      },
      "execution_count": null,
      "outputs": [
        {
          "output_type": "execute_result",
          "data": {
            "text/plain": [
              "[1, 2, 3, 4, 5, 6]"
            ]
          },
          "metadata": {},
          "execution_count": 28
        }
      ]
    },
    {
      "cell_type": "code",
      "source": [
        "second"
      ],
      "metadata": {
        "id": "pZaCMNS8DoSc",
        "colab": {
          "base_uri": "https://localhost:8080/"
        },
        "outputId": "a37ca22b-5e7a-4634-ae83-84c69e2671c2"
      },
      "execution_count": null,
      "outputs": [
        {
          "output_type": "execute_result",
          "data": {
            "text/plain": [
              "[1, 2, 3, 4, 5, 6]"
            ]
          },
          "metadata": {},
          "execution_count": 29
        }
      ]
    },
    {
      "cell_type": "markdown",
      "source": [
        "Sin embargo esto es lo que pasa: [Qué pasó: Python Tutor](http://pythontutor.com/visualize.html#code=first%20%3D%20%5B1,2,3,4,5%5D%0Afirst%0Asecond%20%3D%20first%0Afirst.append%286%29%0Afirst&cumulative=false&curInstr=0&heapPrimitives=nevernest&mode=display&origin=opt-frontend.js&py=3&rawInputLstJSON=%5B%5D&textReferences=false)"
      ],
      "metadata": {
        "id": "X43kLut9D-bn"
      }
    },
    {
      "cell_type": "markdown",
      "source": [
        "## El operador is\n",
        "\n",
        "Permite saber si dos objetos referencian la misma información se puede utilizar el operador ```is```"
      ],
      "metadata": {
        "id": "yBgzNID2EDcQ"
      }
    },
    {
      "cell_type": "code",
      "source": [
        "first is second"
      ],
      "metadata": {
        "id": "ExTK6cNUDoI6",
        "colab": {
          "base_uri": "https://localhost:8080/"
        },
        "outputId": "1bd2b523-7b1c-43a7-b6b7-ef1e0b49abf2"
      },
      "execution_count": null,
      "outputs": [
        {
          "output_type": "execute_result",
          "data": {
            "text/plain": [
              "True"
            ]
          },
          "metadata": {},
          "execution_count": 30
        }
      ]
    },
    {
      "cell_type": "code",
      "source": [
        "third = second.copy()\n",
        "third"
      ],
      "metadata": {
        "id": "YfeAH0LSEHM4",
        "colab": {
          "base_uri": "https://localhost:8080/"
        },
        "outputId": "7e1a627c-cf40-417e-9284-ab6477a5dedb"
      },
      "execution_count": null,
      "outputs": [
        {
          "output_type": "execute_result",
          "data": {
            "text/plain": [
              "[1, 2, 3, 4, 5, 6]"
            ]
          },
          "metadata": {},
          "execution_count": 31
        }
      ]
    },
    {
      "cell_type": "code",
      "source": [
        "third is second"
      ],
      "metadata": {
        "id": "2LEi100kEJKt",
        "colab": {
          "base_uri": "https://localhost:8080/"
        },
        "outputId": "2b3ec208-dac8-4d68-cc46-7376e4c96500"
      },
      "execution_count": null,
      "outputs": [
        {
          "output_type": "execute_result",
          "data": {
            "text/plain": [
              "False"
            ]
          },
          "metadata": {},
          "execution_count": 32
        }
      ]
    },
    {
      "cell_type": "code",
      "source": [
        "third.append(7)"
      ],
      "metadata": {
        "id": "WtM2i2wAELct"
      },
      "execution_count": null,
      "outputs": []
    },
    {
      "cell_type": "code",
      "source": [
        "second"
      ],
      "metadata": {
        "id": "_5gjPLhZENiw",
        "colab": {
          "base_uri": "https://localhost:8080/"
        },
        "outputId": "3aeceb21-5067-4503-a727-46e4ec1b8b02"
      },
      "execution_count": null,
      "outputs": [
        {
          "output_type": "execute_result",
          "data": {
            "text/plain": [
              "[1, 2, 3, 4, 5, 6]"
            ]
          },
          "metadata": {},
          "execution_count": 34
        }
      ]
    },
    {
      "cell_type": "code",
      "source": [
        "third"
      ],
      "metadata": {
        "id": "XUhnBlIeEPrW",
        "colab": {
          "base_uri": "https://localhost:8080/"
        },
        "outputId": "5769f175-dc27-4804-a436-f10cc2754eff"
      },
      "execution_count": null,
      "outputs": [
        {
          "output_type": "execute_result",
          "data": {
            "text/plain": [
              "[1, 2, 3, 4, 5, 6, 7]"
            ]
          },
          "metadata": {},
          "execution_count": 35
        }
      ]
    },
    {
      "cell_type": "markdown",
      "source": [
        "## Ejercicio 1: Lista abecedario\n",
        "\n",
        "Escribir un programa que almacene el abecedario en una lista, elimine de la lista las letras que ocupen posiciones múltiplos de n, y muestre por pantalla la lista resultante\n",
        "\n",
        "### Entrada:\n",
        "Una lista con el abecedario\n",
        "\n",
        "Un numero n\n",
        "\n",
        "### Salida:\n",
        "Una lista de salida donde solamente se encuentren que no ocupan posiciones multipolos de n"
      ],
      "metadata": {
        "id": "lkZ8bR29EgKG"
      }
    },
    {
      "cell_type": "code",
      "source": [
        "ListaAbecedario= ['a', 'b', 'c', 'd', 'e', 'f', 'g', 'h', 'i', 'j', 'k', 'l', 'm', 'n', 'ñ', 'o', 'p', 'q', 'r', 's', 't', 'u', 'v', 'w', 'x', 'y', 'z']\n",
        "\n",
        "print(ListaAbecedario)\n",
        "\n",
        "ListaAbecedarioCopy = ListaAbecedario.copy ()\n",
        "\n",
        "numeroentrada=input(\"numero: \")\n",
        "numero=float(numeroentrada)\n",
        "for removern in ListaAbecedario:\n",
        "  if ListaAbecedario.index(removern)% numero==0:\n",
        "    ListaAbecedarioCopy.remove(removern)\n",
        "\n",
        "print(ListaAbecedarioCopy)\n"
      ],
      "metadata": {
        "id": "nOcwRzu6FFrm",
        "colab": {
          "base_uri": "https://localhost:8080/"
        },
        "outputId": "c805068b-99cc-4a1e-d7ce-c41a18c07042"
      },
      "execution_count": 31,
      "outputs": [
        {
          "output_type": "stream",
          "name": "stdout",
          "text": [
            "['a', 'b', 'c', 'd', 'e', 'f', 'g', 'h', 'i', 'j', 'k', 'l', 'm', 'n', 'ñ', 'o', 'p', 'q', 'r', 's', 't', 'u', 'v', 'w', 'x', 'y', 'z']\n",
            "numero: 3\n",
            "['b', 'c', 'e', 'f', 'h', 'i', 'k', 'l', 'n', 'ñ', 'p', 'q', 's', 't', 'v', 'w', 'y', 'z']\n"
          ]
        }
      ]
    },
    {
      "cell_type": "markdown",
      "metadata": {
        "id": "UF1X3Cyf2Rke"
      },
      "source": [
        "## Ejercicio 2:\n",
        "\n",
        "Dada una frase averiguar cuantas vocales tiene y mostrarlas. Para esto, se debe usar la siguiente lista ```vowels = ['a', 'e', 'i', 'o', 'u']```\n",
        "\n",
        "<table>\n",
        "    <tr>\n",
        "        <td>Input</td><td>Output</td>\n",
        "    </tr>\n",
        "    <tr>\n",
        "        <td>externocleidomastoideo</td><td>11</td>\n",
        "    </tr>"
      ]
    },
    {
      "cell_type": "code",
      "execution_count": null,
      "metadata": {
        "id": "Yx8pOksO2Rke",
        "colab": {
          "base_uri": "https://localhost:8080/"
        },
        "outputId": "96f42bbf-632b-4dc8-c590-2310547da24b"
      },
      "outputs": [
        {
          "output_type": "stream",
          "name": "stdout",
          "text": [
            "introduce la frasediana\n",
            "cantidad de vocales: 3\n",
            "vocales encontradas:i, a, a\n"
          ]
        }
      ],
      "source": [
        "vowels = ['a', 'e', 'i', 'o', 'u']\n",
        "\n",
        "frase=input(\"introduce la frase\")\n",
        "\n",
        "conteovocales=0\n",
        "vocalesencontradas =[]\n",
        "\n",
        "for char in frase:\n",
        "  if char in vowels:\n",
        "    conteovocales += 1\n",
        "    vocalesencontradas.append(char)\n",
        "\n",
        "print(f\"cantidad de vocales: {conteovocales}\")\n",
        "print(f\"vocales encontradas:{', '.join(vocalesencontradas)}\")\n"
      ]
    },
    {
      "cell_type": "markdown",
      "metadata": {
        "id": "mTNUelKf2Rkf"
      },
      "source": [
        "## Ejercicio 3:\n",
        "\n",
        "Transforme la cadena ```El mejor regalo? El perdón...``` en ```el mejor perdón``` utilizando únicamente los métodos de listas que hemos visto. La nueva cadena debe guardarse en la variable ```nueva_frase```:"
      ]
    },
    {
      "cell_type": "code",
      "execution_count": 37,
      "metadata": {
        "id": "VFqnxaES2Rkg",
        "colab": {
          "base_uri": "https://localhost:8080/"
        },
        "outputId": "9fc6dcb4-2b04-48cd-9477-034407f1ded4"
      },
      "outputs": [
        {
          "output_type": "stream",
          "name": "stdout",
          "text": [
            "El mejor regalo? El perdón...\n",
            "['E', 'l', ' ', 'm', 'e', 'j', 'o', 'r', ' ', 'r', 'e', 'g', 'a', 'l', 'o', '?', ' ', 'E', 'l', ' ', 'p', 'e', 'r', 'd', 'ó', 'n', '.', '.', '.']\n",
            "['E', 'l', ' ', 'm', 'e', 'j', 'o', 'r', ' ', 'r', 'e', 'g', 'a', 'l', 'o', '?', ' ', 'E', 'l', ' ', 'p', 'e', 'r', 'd', 'ó', 'n', '.', '.', '.']\n",
            "El mejor regalo? El perdón...\n",
            "El mejor  perdón\n"
          ]
        }
      ],
      "source": [
        "frase = \"El mejor regalo? El perdón...\"\n",
        "list_frase = list(frase)\n",
        "print(frase)\n",
        "print(list_frase) #deben jugar con esta lista\n",
        "\n",
        "#Aquí va la solución...\n",
        "\n",
        "nueva_frase = ''.join(list_frase)\n",
        "print(list_frase)\n",
        "print(nueva_frase)\n",
        "\n",
        "frase1 = frase[0:8]\n",
        "\n",
        "frase2 = frase[19:26]\n",
        "\n",
        "print(frase1,frase2)\n",
        "\n",
        "\n"
      ]
    },
    {
      "cell_type": "markdown",
      "metadata": {
        "id": "r_whRfIT2Rkg"
      },
      "source": [
        "## Referencias:\n",
        "\n",
        "Gomez, J, Rodriguez A y Cubides C. La ciencia de Programar. Universidad Nacional de Colombia.\n",
        "\n",
        "Barry, P. (2016). Head First Python: A Brain-Friendly Guide. \" O'Reilly Media, Inc.\".\n",
        "\n",
        "Guttag, John. Introduction to Computation and Programming Using Python: With Application to Understanding Data Second Edition. MIT Press, 2016. ISBN: 9780262529624.\n",
        "\n",
        "\n",
        "https://www.w3schools.com/PYTHON/\n",
        "\n",
        "Rodríguez, A (2020). Curso de Programación en Python. https://github.com/arleserp/cursopython"
      ]
    },
    {
      "cell_type": "code",
      "source": [],
      "metadata": {
        "id": "M1WSJKs9hq-b"
      },
      "execution_count": null,
      "outputs": []
    },
    {
      "cell_type": "code",
      "source": [],
      "metadata": {
        "id": "-eBINaQ4h2qs"
      },
      "execution_count": null,
      "outputs": []
    }
  ],
  "metadata": {
    "kernelspec": {
      "display_name": "Python 3",
      "language": "python",
      "name": "python3"
    },
    "language_info": {
      "codemirror_mode": {
        "name": "ipython",
        "version": 3
      },
      "file_extension": ".py",
      "mimetype": "text/x-python",
      "name": "python",
      "nbconvert_exporter": "python",
      "pygments_lexer": "ipython3",
      "version": "3.7.3"
    },
    "colab": {
      "provenance": [],
      "collapsed_sections": [
        "r_whRfIT2Rkg"
      ],
      "include_colab_link": true
    }
  },
  "nbformat": 4,
  "nbformat_minor": 0
}