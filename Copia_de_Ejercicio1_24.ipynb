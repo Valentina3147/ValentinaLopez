{
  "cells": [
    {
      "cell_type": "markdown",
      "metadata": {
        "id": "view-in-github",
        "colab_type": "text"
      },
      "source": [
        "<a href=\"https://colab.research.google.com/github/Valentina3147/ValentinaLopez/blob/main/Copia_de_Ejercicio1_24.ipynb\" target=\"_parent\"><img src=\"https://colab.research.google.com/assets/colab-badge.svg\" alt=\"Open In Colab\"/></a>"
      ]
    },
    {
      "cell_type": "markdown",
      "id": "6bae65f4",
      "metadata": {
        "id": "6bae65f4"
      },
      "source": [
        "# Taller básico pandas - numpy"
      ]
    },
    {
      "cell_type": "code",
      "execution_count": null,
      "id": "bc1e240c",
      "metadata": {
        "id": "bc1e240c"
      },
      "outputs": [],
      "source": [
        "import pandas as pd"
      ]
    },
    {
      "cell_type": "code",
      "execution_count": 5,
      "id": "fe3e3cc4",
      "metadata": {
        "id": "fe3e3cc4",
        "colab": {
          "base_uri": "https://localhost:8080/"
        },
        "outputId": "a379fcef-30af-432b-9f19-adc17d03196e"
      },
      "outputs": [
        {
          "output_type": "stream",
          "name": "stdout",
          "text": [
            "    cancion   artista  duracion\n",
            "0  cancion1  artista1         3\n",
            "1  cancion2  artista2         4\n",
            "2  cancion3  artista3         5\n"
          ]
        }
      ],
      "source": [
        "# Crear un dataframe que tenga 3 registros(filas) cada una debe contener el nombre de una cancion, el artista que la canta, y la duracion en segundos\n",
        "\n",
        "import pandas as pd\n",
        "\n",
        "data = {\n",
        "    'cancion': ['cancion1', 'cancion2', 'cancion3'],\n",
        "    'artista': ['artista1', 'artista2', 'artista3'],\n",
        "    'duracion': [3, 4, 5]\n",
        "}\n",
        "\n",
        "df = pd.DataFrame(data)\n",
        "\n",
        "print(df)\n"
      ]
    },
    {
      "cell_type": "code",
      "execution_count": 6,
      "id": "38d4ed46",
      "metadata": {
        "id": "38d4ed46",
        "colab": {
          "base_uri": "https://localhost:8080/"
        },
        "outputId": "0401bea4-7de7-4e75-f0e0-40647bf54a67"
      },
      "outputs": [
        {
          "output_type": "stream",
          "name": "stdout",
          "text": [
            "    cancion   artista  duracion\n",
            "0  cancion1  artista1         3\n",
            "1  cancion2  artista2         4\n",
            "2  cancion3  artista3         5\n"
          ]
        }
      ],
      "source": [
        "# Imprimir la cola del dataframe\n",
        "\n",
        "print (df.tail())"
      ]
    },
    {
      "cell_type": "code",
      "execution_count": 11,
      "id": "79ccb7d9",
      "metadata": {
        "id": "79ccb7d9",
        "colab": {
          "base_uri": "https://localhost:8080/"
        },
        "outputId": "e48c9995-d2ff-4f04-b3de-17f77eaf1f32"
      },
      "outputs": [
        {
          "output_type": "stream",
          "name": "stdout",
          "text": [
            "0    3\n",
            "1    4\n",
            "2    5\n",
            "Name: duracion, dtype: int64\n"
          ]
        }
      ],
      "source": [
        "# Acceder a la columna duracion\n",
        "duracion = df['duracion']\n",
        "print(duracion)"
      ]
    },
    {
      "cell_type": "code",
      "execution_count": 12,
      "id": "0a3732eb",
      "metadata": {
        "id": "0a3732eb",
        "colab": {
          "base_uri": "https://localhost:8080/"
        },
        "outputId": "501d7f36-8bb5-41b7-ebec-0940b7880402"
      },
      "outputs": [
        {
          "output_type": "stream",
          "name": "stdout",
          "text": [
            "4.0\n"
          ]
        }
      ],
      "source": [
        "# Calcular el promedio de las duraciones\n",
        "promedio = df['duracion'].mean()\n",
        "print(promedio)"
      ]
    },
    {
      "cell_type": "code",
      "execution_count": 13,
      "id": "bf77fe95",
      "metadata": {
        "id": "bf77fe95",
        "colab": {
          "base_uri": "https://localhost:8080/"
        },
        "outputId": "fb194a1b-2c68-4af1-b9e6-f1970ad6d09c"
      },
      "outputs": [
        {
          "output_type": "stream",
          "name": "stdout",
          "text": [
            "2    cancion3\n",
            "Name: cancion, dtype: object\n"
          ]
        }
      ],
      "source": [
        "# Obtener los nombres de las canciones que tengan duracion mayor que el promedio\n",
        "cancionesMayorDuracion = df[df['duracion'] > promedio]['cancion']\n",
        "print(cancionesMayorDuracion)"
      ]
    },
    {
      "cell_type": "code",
      "execution_count": 14,
      "id": "c4998539",
      "metadata": {
        "id": "c4998539",
        "colab": {
          "base_uri": "https://localhost:8080/"
        },
        "outputId": "9f40205d-4b42-4ce3-d395-0e3342c25a79"
      },
      "outputs": [
        {
          "output_type": "stream",
          "name": "stdout",
          "text": [
            "    cancion   artista  duracion  mayor3min\n",
            "0  cancion1  artista1         3      False\n",
            "1  cancion2  artista2         4       True\n",
            "2  cancion3  artista3         5       True\n"
          ]
        }
      ],
      "source": [
        "# Agregar una columna al dataframe que contenga True si la duracion es mayor que 3 minutos\n",
        "# y false si es menor\n",
        "\n",
        "df['mayor3min'] = df['duracion']>3\n",
        "\n",
        "print(df)"
      ]
    },
    {
      "cell_type": "code",
      "execution_count": 26,
      "id": "baa74c25",
      "metadata": {
        "id": "baa74c25",
        "colab": {
          "base_uri": "https://localhost:8080/"
        },
        "outputId": "f6ef81b6-e6af-414c-dff0-084099dd7a8e"
      },
      "outputs": [
        {
          "output_type": "stream",
          "name": "stdout",
          "text": [
            "[['cancion1' 'artista1' 3 False]\n",
            " ['cancion2' 'artista2' 4 True]\n",
            " ['cancion3' 'artista3' 5 True]]\n"
          ]
        }
      ],
      "source": [
        "# Convertir el dataframe a numpy array\n",
        "numpy =df.to_numpy()\n",
        "print(numpy)"
      ]
    },
    {
      "cell_type": "code",
      "execution_count": 19,
      "id": "77697675",
      "metadata": {
        "id": "77697675",
        "colab": {
          "base_uri": "https://localhost:8080/"
        },
        "outputId": "2fe31ee7-8219-4829-f4f7-68aebce7a0b8"
      },
      "outputs": [
        {
          "output_type": "stream",
          "name": "stdout",
          "text": [
            "(3, 4)\n"
          ]
        }
      ],
      "source": [
        "# Imprimir el shape del array\n",
        "print(numpy.shape)"
      ]
    },
    {
      "cell_type": "code",
      "execution_count": 31,
      "id": "3caa5fa1",
      "metadata": {
        "id": "3caa5fa1",
        "colab": {
          "base_uri": "https://localhost:8080/"
        },
        "outputId": "1b61a988-f9c1-4f02-c473-f5d96ec566bd"
      },
      "outputs": [
        {
          "output_type": "stream",
          "name": "stdout",
          "text": [
            "[['cancion1' 'artista1' 3 False]\n",
            " ['cancion2' 'artista2' 4 True]\n",
            " ['cancion3' 'artista3' 5 True]]\n"
          ]
        }
      ],
      "source": [
        "# Hacer un reshape para convertir el arreglo de 3x3 a un arreglo de 12 elementos\n",
        "numpy.reshape(12)\n",
        "\n",
        "print(numpy)"
      ]
    }
  ],
  "metadata": {
    "kernelspec": {
      "display_name": "entornomp",
      "language": "python",
      "name": "entornomp"
    },
    "language_info": {
      "codemirror_mode": {
        "name": "ipython",
        "version": 3
      },
      "file_extension": ".py",
      "mimetype": "text/x-python",
      "name": "python",
      "nbconvert_exporter": "python",
      "pygments_lexer": "ipython3",
      "version": "3.7.10"
    },
    "colab": {
      "provenance": [],
      "include_colab_link": true
    }
  },
  "nbformat": 4,
  "nbformat_minor": 5
}