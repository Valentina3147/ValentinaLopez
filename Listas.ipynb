{
  "nbformat": 4,
  "nbformat_minor": 0,
  "metadata": {
    "colab": {
      "provenance": [],
      "authorship_tag": "ABX9TyNl/3Zr6Hw7kDM9S4B8XHFr",
      "include_colab_link": true
    },
    "kernelspec": {
      "name": "python3",
      "display_name": "Python 3"
    },
    "language_info": {
      "name": "python"
    }
  },
  "cells": [
    {
      "cell_type": "markdown",
      "metadata": {
        "id": "view-in-github",
        "colab_type": "text"
      },
      "source": [
        "<a href=\"https://colab.research.google.com/github/Valentina3147/ValentinaLopez/blob/main/Listas.ipynb\" target=\"_parent\"><img src=\"https://colab.research.google.com/assets/colab-badge.svg\" alt=\"Open In Colab\"/></a>"
      ]
    },
    {
      "cell_type": "code",
      "execution_count": 2,
      "metadata": {
        "colab": {
          "base_uri": "https://localhost:8080/"
        },
        "id": "WRH2ZaB0oE-O",
        "outputId": "9a5fcca8-7c2a-48bd-a238-3718302b0a7f"
      },
      "outputs": [
        {
          "output_type": "execute_result",
          "data": {
            "text/plain": [
              "[]"
            ]
          },
          "metadata": {},
          "execution_count": 2
        }
      ],
      "source": [
        "lis = []\n",
        "lis"
      ]
    },
    {
      "cell_type": "code",
      "source": [
        "lis =list()\n",
        "lis"
      ],
      "metadata": {
        "colab": {
          "base_uri": "https://localhost:8080/"
        },
        "id": "8a_Kfn_Bo0AF",
        "outputId": "4483a60a-66e8-4b35-9171-204e4176b3f3"
      },
      "execution_count": 4,
      "outputs": [
        {
          "output_type": "execute_result",
          "data": {
            "text/plain": [
              "[]"
            ]
          },
          "metadata": {},
          "execution_count": 4
        }
      ]
    },
    {
      "cell_type": "code",
      "source": [
        "lis = ['elemento1','elemento2']\n",
        "lis"
      ],
      "metadata": {
        "colab": {
          "base_uri": "https://localhost:8080/"
        },
        "id": "GxIYGbyxo7vq",
        "outputId": "3a5c63f7-e140-41d5-f4bf-d7a0969af493"
      },
      "execution_count": 8,
      "outputs": [
        {
          "output_type": "execute_result",
          "data": {
            "text/plain": [
              "['elemento1', 'elemento2']"
            ]
          },
          "metadata": {},
          "execution_count": 8
        }
      ]
    },
    {
      "cell_type": "code",
      "source": [
        "lis = ['1.0','e']\n",
        "lis\n",
        "type(lis)"
      ],
      "metadata": {
        "colab": {
          "base_uri": "https://localhost:8080/"
        },
        "id": "zMLVZpoFpMmg",
        "outputId": "85669688-e4e3-4826-b71b-bf2f035d95b6"
      },
      "execution_count": 10,
      "outputs": [
        {
          "output_type": "execute_result",
          "data": {
            "text/plain": [
              "list"
            ]
          },
          "metadata": {},
          "execution_count": 10
        }
      ]
    },
    {
      "cell_type": "code",
      "source": [
        "lista1 =[0,2,3,4]\n",
        "lista2=['a','b','c']\n",
        "lista3=[lista1,lista2]\n",
        "lista3"
      ],
      "metadata": {
        "colab": {
          "base_uri": "https://localhost:8080/"
        },
        "id": "j6KS-TwCpOWw",
        "outputId": "c50362fb-9f81-4016-a96a-1e70aa6829c4"
      },
      "execution_count": 12,
      "outputs": [
        {
          "output_type": "execute_result",
          "data": {
            "text/plain": [
              "[[0, 2, 3, 4], ['a', 'b', 'c']]"
            ]
          },
          "metadata": {},
          "execution_count": 12
        }
      ]
    },
    {
      "cell_type": "code",
      "source": [
        "lista4=lista1+lista2\n",
        "lista4"
      ],
      "metadata": {
        "colab": {
          "base_uri": "https://localhost:8080/"
        },
        "id": "z-2752dXqYB-",
        "outputId": "507005f1-440e-4010-f343-889276ec371f"
      },
      "execution_count": 13,
      "outputs": [
        {
          "output_type": "execute_result",
          "data": {
            "text/plain": [
              "[0, 2, 3, 4, 'a', 'b', 'c']"
            ]
          },
          "metadata": {},
          "execution_count": 13
        }
      ]
    },
    {
      "cell_type": "code",
      "source": [
        "lista1.extend(lista2)\n",
        "lista1"
      ],
      "metadata": {
        "colab": {
          "base_uri": "https://localhost:8080/"
        },
        "id": "1WjFUZgZqfdf",
        "outputId": "7aee9718-ffcf-4383-f2e2-e78a6535724b"
      },
      "execution_count": 14,
      "outputs": [
        {
          "output_type": "execute_result",
          "data": {
            "text/plain": [
              "[0, 2, 3, 4, 'a', 'b', 'c']"
            ]
          },
          "metadata": {},
          "execution_count": 14
        }
      ]
    },
    {
      "cell_type": "code",
      "source": [
        "lista5=lista2*2\n",
        "lista5"
      ],
      "metadata": {
        "colab": {
          "base_uri": "https://localhost:8080/"
        },
        "id": "AJyFKvIAq-QU",
        "outputId": "4a79f7fc-386a-47b5-f92e-de03edad0e76"
      },
      "execution_count": 15,
      "outputs": [
        {
          "output_type": "execute_result",
          "data": {
            "text/plain": [
              "['a', 'b', 'c', 'a', 'b', 'c']"
            ]
          },
          "metadata": {},
          "execution_count": 15
        }
      ]
    },
    {
      "cell_type": "code",
      "source": [
        "lista8=['iroman','spiderman','chapulin','hulk']\n",
        "lista8[-3]"
      ],
      "metadata": {
        "colab": {
          "base_uri": "https://localhost:8080/",
          "height": 36
        },
        "id": "T_X7xc59rfaj",
        "outputId": "03f47c72-699f-4864-b8a5-0ed4143f95e7"
      },
      "execution_count": 17,
      "outputs": [
        {
          "output_type": "execute_result",
          "data": {
            "text/plain": [
              "'spiderman'"
            ],
            "application/vnd.google.colaboratory.intrinsic+json": {
              "type": "string"
            }
          },
          "metadata": {},
          "execution_count": 17
        }
      ]
    },
    {
      "cell_type": "code",
      "source": [
        "if 'iroman' in lista8:\n",
        "  print('iroman esta en la lista')\n",
        "else:\n",
        "  print('iroman no esta en la lista')"
      ],
      "metadata": {
        "colab": {
          "base_uri": "https://localhost:8080/"
        },
        "id": "EqM396cerypW",
        "outputId": "4b7f8d9b-5e44-4166-e4e7-599287acb4a2"
      },
      "execution_count": 20,
      "outputs": [
        {
          "output_type": "stream",
          "name": "stdout",
          "text": [
            "iroman esta en la lista\n"
          ]
        }
      ]
    },
    {
      "cell_type": "code",
      "source": [
        "for superheroe in lista8:\n",
        "  print(superheroe)"
      ],
      "metadata": {
        "colab": {
          "base_uri": "https://localhost:8080/"
        },
        "id": "57YqfMoPsg_z",
        "outputId": "27bde543-943b-4fe7-f422-b214e61e2cd9"
      },
      "execution_count": 21,
      "outputs": [
        {
          "output_type": "stream",
          "name": "stdout",
          "text": [
            "iroman\n",
            "spiderman\n",
            "chapulin\n",
            "hulk\n"
          ]
        }
      ]
    },
    {
      "cell_type": "code",
      "source": [
        "d = 10\n",
        "lista9 = [1,2,3,4,5,6]\n",
        "\n",
        "listadesplazada=[d+x for x in lista9]\n",
        "listadesplazada"
      ],
      "metadata": {
        "colab": {
          "base_uri": "https://localhost:8080/"
        },
        "id": "NvtZaUrVtCVZ",
        "outputId": "461b640e-c840-4e82-9be0-3eae160cd1ae"
      },
      "execution_count": 22,
      "outputs": [
        {
          "output_type": "execute_result",
          "data": {
            "text/plain": [
              "[11, 12, 13, 14, 15, 16]"
            ]
          },
          "metadata": {},
          "execution_count": 22
        }
      ]
    },
    {
      "cell_type": "code",
      "source": [
        "lista10 = [1,-2,-3]\n",
        "a,b,c = lista10\n",
        "a"
      ],
      "metadata": {
        "colab": {
          "base_uri": "https://localhost:8080/"
        },
        "id": "H-CukZWmub1w",
        "outputId": "4b8f6fda-b8dc-41c9-abb8-74fa676d0d23"
      },
      "execution_count": 23,
      "outputs": [
        {
          "output_type": "execute_result",
          "data": {
            "text/plain": [
              "1"
            ]
          },
          "metadata": {},
          "execution_count": 23
        }
      ]
    },
    {
      "cell_type": "code",
      "source": [
        "nombre = 'nombre'\n",
        "listanombre = list(nombre)\n",
        "listanombre"
      ],
      "metadata": {
        "colab": {
          "base_uri": "https://localhost:8080/"
        },
        "id": "WWZ98EZqu5WB",
        "outputId": "f138235f-2182-497d-c5a1-7aa454c08d57"
      },
      "execution_count": 1,
      "outputs": [
        {
          "output_type": "execute_result",
          "data": {
            "text/plain": [
              "['n', 'o', 'm', 'b', 'r', 'e']"
            ]
          },
          "metadata": {},
          "execution_count": 1
        }
      ]
    },
    {
      "cell_type": "code",
      "source": [
        "listanombre[2]='M'\n",
        "listanombre"
      ],
      "metadata": {
        "colab": {
          "base_uri": "https://localhost:8080/"
        },
        "id": "SJ8anTrnvutz",
        "outputId": "63f231bc-49a3-423c-c9e7-e623fc756410"
      },
      "execution_count": 2,
      "outputs": [
        {
          "output_type": "execute_result",
          "data": {
            "text/plain": [
              "['n', 'o', 'M', 'b', 'r', 'e']"
            ]
          },
          "metadata": {},
          "execution_count": 2
        }
      ]
    },
    {
      "cell_type": "code",
      "source": [
        "listanumeros = [1,2,3,4,5]\n",
        "listanumeros.append(6)\n",
        "listanumeros\n"
      ],
      "metadata": {
        "colab": {
          "base_uri": "https://localhost:8080/"
        },
        "id": "YHdYYu4tv35s",
        "outputId": "c0392553-6f64-4a34-8ff0-c9b1e25718e7"
      },
      "execution_count": 3,
      "outputs": [
        {
          "output_type": "execute_result",
          "data": {
            "text/plain": [
              "[1, 2, 3, 4, 5, 6]"
            ]
          },
          "metadata": {},
          "execution_count": 3
        }
      ]
    },
    {
      "cell_type": "code",
      "source": [
        "listanumeros.insert(0,-1)\n",
        "listanumeros"
      ],
      "metadata": {
        "colab": {
          "base_uri": "https://localhost:8080/"
        },
        "id": "LSoqIpM1wDg9",
        "outputId": "bdd2fc22-980b-413a-84a9-319f9e9f2ae4"
      },
      "execution_count": 4,
      "outputs": [
        {
          "output_type": "execute_result",
          "data": {
            "text/plain": [
              "[-1, 1, 2, 3, 4, 5, 6]"
            ]
          },
          "metadata": {},
          "execution_count": 4
        }
      ]
    },
    {
      "cell_type": "code",
      "source": [
        "listanumeros.remove(3)\n",
        "listanumeros"
      ],
      "metadata": {
        "colab": {
          "base_uri": "https://localhost:8080/"
        },
        "id": "uzLYcCbOwRJX",
        "outputId": "540eed04-8648-466b-d356-116285cc152d"
      },
      "execution_count": 5,
      "outputs": [
        {
          "output_type": "execute_result",
          "data": {
            "text/plain": [
              "[-1, 1, 2, 4, 5, 6]"
            ]
          },
          "metadata": {},
          "execution_count": 5
        }
      ]
    },
    {
      "cell_type": "code",
      "source": [
        "listanumeros[:-2]\n",
        "listanumeros"
      ],
      "metadata": {
        "colab": {
          "base_uri": "https://localhost:8080/"
        },
        "id": "Gsi9z9qBw2R5",
        "outputId": "daac8112-2796-496c-a8de-a952c666976b"
      },
      "execution_count": 8,
      "outputs": [
        {
          "output_type": "execute_result",
          "data": {
            "text/plain": [
              "[-1, 1, 2, 4, 5, 6]"
            ]
          },
          "metadata": {},
          "execution_count": 8
        }
      ]
    },
    {
      "cell_type": "code",
      "source": [
        "listanumerosinvertidos =listanumeros[::-1]\n",
        "listanumeros.reverse\n",
        "print(listanumeros)\n",
        "print(listanumerosinvertidos)"
      ],
      "metadata": {
        "colab": {
          "base_uri": "https://localhost:8080/"
        },
        "id": "lRjljQSjxOAE",
        "outputId": "e3185154-f28d-4b1f-a236-ab6a881f8f4d"
      },
      "execution_count": 10,
      "outputs": [
        {
          "output_type": "stream",
          "name": "stdout",
          "text": [
            "[-1, 1, 2, 4, 5, 6]\n",
            "[6, 5, 4, 2, 1, -1]\n"
          ]
        }
      ]
    },
    {
      "cell_type": "code",
      "source": [
        "listanumeros.index(4)"
      ],
      "metadata": {
        "colab": {
          "base_uri": "https://localhost:8080/"
        },
        "id": "zhdkjTyMx-6L",
        "outputId": "f9c14e9d-a4b4-46b8-9aa2-ad488202f588"
      },
      "execution_count": 13,
      "outputs": [
        {
          "output_type": "execute_result",
          "data": {
            "text/plain": [
              "3"
            ]
          },
          "metadata": {},
          "execution_count": 13
        }
      ]
    },
    {
      "cell_type": "code",
      "source": [
        "print(max(listanumeros))\n",
        "print(min(listanumeros))"
      ],
      "metadata": {
        "colab": {
          "base_uri": "https://localhost:8080/"
        },
        "id": "eLlxmZkQydN2",
        "outputId": "1333c69e-3edf-4b3e-e78f-75e0c56ea42d"
      },
      "execution_count": 14,
      "outputs": [
        {
          "output_type": "stream",
          "name": "stdout",
          "text": [
            "6\n",
            "-1\n"
          ]
        }
      ]
    },
    {
      "cell_type": "code",
      "source": [
        "listanumeros.sort(reverse=True)\n",
        "listanumeros"
      ],
      "metadata": {
        "colab": {
          "base_uri": "https://localhost:8080/"
        },
        "id": "FJU-TfGDy3vg",
        "outputId": "d49acb83-c024-418b-b3b2-c14aa365cb6a"
      },
      "execution_count": 17,
      "outputs": [
        {
          "output_type": "execute_result",
          "data": {
            "text/plain": [
              "[6, 5, 4, 2, 1, -1]"
            ]
          },
          "metadata": {},
          "execution_count": 17
        }
      ]
    },
    {
      "cell_type": "code",
      "source": [
        "listanumeros.pop(2)\n",
        "listanumeros"
      ],
      "metadata": {
        "colab": {
          "base_uri": "https://localhost:8080/"
        },
        "id": "1HxcyuKWzI7U",
        "outputId": "5e6183a4-9da2-46eb-acb1-7b02ad132bef"
      },
      "execution_count": 18,
      "outputs": [
        {
          "output_type": "execute_result",
          "data": {
            "text/plain": [
              "[6, 5, 2, 1, -1]"
            ]
          },
          "metadata": {},
          "execution_count": 18
        }
      ]
    },
    {
      "cell_type": "code",
      "source": [
        "listanumeroscopia=listanumeros\n",
        "listanumeroscopia.append('A')\n",
        "listanumeros"
      ],
      "metadata": {
        "colab": {
          "base_uri": "https://localhost:8080/"
        },
        "id": "8Mmj-xorzsYv",
        "outputId": "3bb9f2a6-1e5c-4877-fadc-457c4fc28bbe"
      },
      "execution_count": 19,
      "outputs": [
        {
          "output_type": "execute_result",
          "data": {
            "text/plain": [
              "[6, 5, 2, 1, -1, 'A']"
            ]
          },
          "metadata": {},
          "execution_count": 19
        }
      ]
    },
    {
      "cell_type": "code",
      "source": [
        "listanumerosdeepcopia = listanumeros.copy()\n",
        "listanumerosdeepcopia.append('B')\n",
        "listanumeros\n",
        "listanumerosdeepcopia"
      ],
      "metadata": {
        "colab": {
          "base_uri": "https://localhost:8080/"
        },
        "id": "KhEbXFNC0SL9",
        "outputId": "96369f80-55c5-4a51-e509-79317fb106dc"
      },
      "execution_count": 21,
      "outputs": [
        {
          "output_type": "execute_result",
          "data": {
            "text/plain": [
              "[6, 5, 2, 1, -1, 'A', 'B']"
            ]
          },
          "metadata": {},
          "execution_count": 21
        }
      ]
    },
    {
      "cell_type": "code",
      "source": [
        "print (listanumeroscopia==listanumeros)\n",
        "print (listanumerosdeepcopia==listanumeros)\n",
        "print (listanumeroscopia is listanumeros)\n",
        "print (listanumerosdeepcopia is listanumeros)\n"
      ],
      "metadata": {
        "colab": {
          "base_uri": "https://localhost:8080/"
        },
        "id": "316LfkSa0k4C",
        "outputId": "d1863843-3222-4e05-fe6e-5ec8091d1bd4"
      },
      "execution_count": 22,
      "outputs": [
        {
          "output_type": "stream",
          "name": "stdout",
          "text": [
            "True\n",
            "False\n",
            "True\n",
            "False\n"
          ]
        }
      ]
    }
  ]
}